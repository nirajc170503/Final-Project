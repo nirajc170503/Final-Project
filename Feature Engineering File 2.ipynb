{
 "cells": [
  {
   "cell_type": "code",
   "execution_count": 1,
   "id": "7af10fe8",
   "metadata": {},
   "outputs": [],
   "source": [
    "import  os\n",
    "\n",
    "folder  =  r'H:\\DSE-Capstone\\2023-Oct\\DSE-FT-Pune-Aug23-G2\\Data'\n",
    "os.chdir(folder)"
   ]
  },
  {
   "cell_type": "code",
   "execution_count": 2,
   "id": "178dea14",
   "metadata": {},
   "outputs": [],
   "source": [
    "filename = 'Housing Loan comprehensive data.csv'"
   ]
  },
  {
   "cell_type": "code",
   "execution_count": 3,
   "id": "53cf3bf0",
   "metadata": {},
   "outputs": [],
   "source": [
    "import  pandas   as   pd\n",
    "import  numpy    as   np"
   ]
  },
  {
   "cell_type": "code",
   "execution_count": 4,
   "id": "2eaba770",
   "metadata": {},
   "outputs": [],
   "source": [
    "import seaborn           as  sns\n",
    "import matplotlib.pyplot as  plt\n",
    "import statsmodels.api   as  sm"
   ]
  },
  {
   "cell_type": "code",
   "execution_count": 5,
   "id": "80d22b65",
   "metadata": {},
   "outputs": [],
   "source": [
    "### Explore the algorithm wrapped by RFE\n",
    "from numpy                       import mean\n",
    "from numpy                       import std\n",
    "from sklearn.datasets            import make_classification\n",
    "from sklearn.model_selection     import cross_val_score\n",
    "from sklearn.model_selection     import RepeatedStratifiedKFold\n",
    "from sklearn.feature_selection   import RFE\n",
    "from sklearn.feature_selection   import RFECV\n",
    "from sklearn.linear_model        import LogisticRegression\n",
    "from sklearn.linear_model        import Perceptron\n",
    "from sklearn.tree                import DecisionTreeClassifier\n",
    "from sklearn.ensemble            import RandomForestClassifier\n",
    "from sklearn.ensemble            import GradientBoostingClassifier\n",
    "from sklearn.pipeline            import Pipeline"
   ]
  },
  {
   "cell_type": "code",
   "execution_count": 6,
   "id": "669b251f",
   "metadata": {},
   "outputs": [],
   "source": [
    "def identify_outliers(df, var):\n",
    "    # Interquartile Range (IQR)\n",
    "\n",
    "    # Calculate the upper and lower limits\n",
    "    Q1 = df[var].quantile(0.25)\n",
    "    Q3 = df[var].quantile(0.75)\n",
    "    IQR = Q3 - Q1\n",
    "    lower = Q1 - 1.5 * IQR\n",
    "    upper = Q3 + 1.5 * IQR\n",
    "    df.boxplot(column = [var])\n",
    "    plt.show()\n",
    "    return (lower, upper)"
   ]
  },
  {
   "cell_type": "markdown",
   "id": "1bb46902",
   "metadata": {},
   "source": [
    "### Feature selection\n",
    "\n",
    "We shall convert the categorical variables to numerical variables to carry out RFE techniques and model building."
   ]
  },
  {
   "cell_type": "markdown",
   "id": "65e88edf",
   "metadata": {},
   "source": [
    "In the machine learning process, feature selection is used to make the process more accurate. It also increases the prediction power of the algorithms by selecting the most critical variables and eliminating the redundant and irrelevant ones. This is why feature selection is important.\n",
    "\n",
    "Ref: https://h2o.ai/wiki/feature-selection/#:~:text=In%20the%20machine%20learning%20process,why%20feature%20selection%20is%20important."
   ]
  },
  {
   "cell_type": "markdown",
   "id": "7ba0e5c3",
   "metadata": {},
   "source": [
    "### Perform feature selection\n",
    "\n",
    "Recursive Feature Elimination, or RFE for short, is a popular feature selection algorithm in a dataset that are more or most relevant in predicting the target variable.\n",
    "\n",
    "RFE applies a backward selection process to find the best combination of features. This is done as follows:\n",
    "\n",
    "Builds a model based on all features and calculates the importance of each feature in the model.\n",
    "It ranks the features and removes the feature(s) with the least importance iteratively based on model evaluation metrics such as accuracy ratio, F1 weighted.\n",
    "\n",
    "Ref 1. https://towardsdatascience.com/effective-feature-selection-recursive-feature-elimination-using-r-148ff998e4f7\n",
    "\n",
    "Ref 2: https://machinelearningmastery.com/rfe-feature-selection-in-python/"
   ]
  },
  {
   "cell_type": "markdown",
   "id": "73bf8d83",
   "metadata": {},
   "source": [
    "### Automatically select the number of features\n",
    "\n",
    "It is also possible to automatically select the number of features chosen by RFE.\n",
    "\n",
    "Using the RFECV class, This can be achieved by performing cross-validation evaluation of different numbers of features and\n",
    "automatically selecting the number of features that resulted in the best mean score.\n",
    "\n",
    "The RFECV is configured by specifying the minimum number of features via the “min_features_to_select” argument (defaults to 1) \n",
    "and we can also specify the type of cross-validation and scoring to use via the “cv” (defaults to 5) \n",
    "and “scoring” arguments (uses accuracy for classification)."
   ]
  },
  {
   "cell_type": "code",
   "execution_count": 7,
   "id": "0fd8cb01",
   "metadata": {},
   "outputs": [],
   "source": [
    "df_        =   pd.read_csv(filename, encoding = 'Latin-1')\n",
    "df_clean   =   df_"
   ]
  },
  {
   "cell_type": "code",
   "execution_count": 8,
   "id": "69995f48",
   "metadata": {},
   "outputs": [
    {
     "data": {
      "text/plain": [
       "(307511, 136)"
      ]
     },
     "execution_count": 8,
     "metadata": {},
     "output_type": "execute_result"
    }
   ],
   "source": [
    "df_clean.shape"
   ]
  },
  {
   "cell_type": "code",
   "execution_count": 9,
   "id": "f888f0fc",
   "metadata": {},
   "outputs": [],
   "source": [
    "from sklearn.preprocessing import LabelEncoder\n",
    "\n",
    "le = LabelEncoder()"
   ]
  },
  {
   "cell_type": "markdown",
   "id": "d953fc76",
   "metadata": {},
   "source": [
    "For the numerical columns converted from categorical variables, we shall suffix with \"_code\"."
   ]
  },
  {
   "cell_type": "code",
   "execution_count": 10,
   "id": "e0c9828e",
   "metadata": {},
   "outputs": [],
   "source": [
    "numerical_features =  df_clean.select_dtypes(include = np.number).columns.to_list()"
   ]
  },
  {
   "cell_type": "code",
   "execution_count": 11,
   "id": "b4577efd",
   "metadata": {},
   "outputs": [
    {
     "data": {
      "text/plain": [
       "['SK_ID_CURR',\n",
       " 'TARGET',\n",
       " 'CNT_CHILDREN',\n",
       " 'AMT_INCOME_TOTAL',\n",
       " 'AMT_CREDIT',\n",
       " 'AMT_ANNUITY',\n",
       " 'AMT_GOODS_PRICE',\n",
       " 'REGION_POPULATION_RELATIVE',\n",
       " 'DAYS_BIRTH',\n",
       " 'DAYS_EMPLOYED',\n",
       " 'DAYS_REGISTRATION',\n",
       " 'DAYS_ID_PUBLISH',\n",
       " 'FLAG_MOBIL',\n",
       " 'FLAG_EMP_PHONE',\n",
       " 'FLAG_WORK_PHONE',\n",
       " 'FLAG_CONT_MOBILE',\n",
       " 'FLAG_PHONE',\n",
       " 'FLAG_EMAIL',\n",
       " 'CNT_FAM_MEMBERS',\n",
       " 'REGION_RATING_CLIENT',\n",
       " 'REGION_RATING_CLIENT_W_CITY',\n",
       " 'HOUR_APPR_PROCESS_START',\n",
       " 'REG_REGION_NOT_LIVE_REGION',\n",
       " 'REG_REGION_NOT_WORK_REGION',\n",
       " 'LIVE_REGION_NOT_WORK_REGION',\n",
       " 'REG_CITY_NOT_LIVE_CITY',\n",
       " 'REG_CITY_NOT_WORK_CITY',\n",
       " 'LIVE_CITY_NOT_WORK_CITY',\n",
       " 'EXT_SOURCE_1',\n",
       " 'EXT_SOURCE_2',\n",
       " 'EXT_SOURCE_3',\n",
       " 'APARTMENTS_AVG',\n",
       " 'BASEMENTAREA_AVG',\n",
       " 'YEARS_BEGINEXPLUATATION_AVG',\n",
       " 'ELEVATORS_AVG',\n",
       " 'ENTRANCES_AVG',\n",
       " 'FLOORSMAX_AVG',\n",
       " 'LANDAREA_AVG',\n",
       " 'LIVINGAREA_AVG',\n",
       " 'NONLIVINGAREA_AVG',\n",
       " 'APARTMENTS_MODE',\n",
       " 'BASEMENTAREA_MODE',\n",
       " 'YEARS_BEGINEXPLUATATION_MODE',\n",
       " 'ELEVATORS_MODE',\n",
       " 'ENTRANCES_MODE',\n",
       " 'FLOORSMAX_MODE',\n",
       " 'LANDAREA_MODE',\n",
       " 'LIVINGAREA_MODE',\n",
       " 'NONLIVINGAREA_MODE',\n",
       " 'APARTMENTS_MEDI',\n",
       " 'BASEMENTAREA_MEDI',\n",
       " 'YEARS_BEGINEXPLUATATION_MEDI',\n",
       " 'ELEVATORS_MEDI',\n",
       " 'ENTRANCES_MEDI',\n",
       " 'FLOORSMAX_MEDI',\n",
       " 'LANDAREA_MEDI',\n",
       " 'LIVINGAREA_MEDI',\n",
       " 'NONLIVINGAREA_MEDI',\n",
       " 'TOTALAREA_MODE',\n",
       " 'OBS_30_CNT_SOCIAL_CIRCLE',\n",
       " 'DEF_30_CNT_SOCIAL_CIRCLE',\n",
       " 'OBS_60_CNT_SOCIAL_CIRCLE',\n",
       " 'DEF_60_CNT_SOCIAL_CIRCLE',\n",
       " 'DAYS_LAST_PHONE_CHANGE',\n",
       " 'FLAG_DOCUMENT_2',\n",
       " 'FLAG_DOCUMENT_3',\n",
       " 'FLAG_DOCUMENT_4',\n",
       " 'FLAG_DOCUMENT_5',\n",
       " 'FLAG_DOCUMENT_6',\n",
       " 'FLAG_DOCUMENT_7',\n",
       " 'FLAG_DOCUMENT_8',\n",
       " 'FLAG_DOCUMENT_9',\n",
       " 'FLAG_DOCUMENT_10',\n",
       " 'FLAG_DOCUMENT_11',\n",
       " 'FLAG_DOCUMENT_12',\n",
       " 'FLAG_DOCUMENT_13',\n",
       " 'FLAG_DOCUMENT_14',\n",
       " 'FLAG_DOCUMENT_15',\n",
       " 'FLAG_DOCUMENT_16',\n",
       " 'FLAG_DOCUMENT_17',\n",
       " 'FLAG_DOCUMENT_18',\n",
       " 'FLAG_DOCUMENT_19',\n",
       " 'FLAG_DOCUMENT_20',\n",
       " 'FLAG_DOCUMENT_21',\n",
       " 'AMT_REQ_CREDIT_BUREAU_HOUR',\n",
       " 'AMT_REQ_CREDIT_BUREAU_DAY',\n",
       " 'AMT_REQ_CREDIT_BUREAU_WEEK',\n",
       " 'AMT_REQ_CREDIT_BUREAU_MON',\n",
       " 'AMT_REQ_CREDIT_BUREAU_QRT',\n",
       " 'AMT_REQ_CREDIT_BUREAU_YEAR',\n",
       " 'b_Total_credit',\n",
       " 'b_Active_credit_ratio',\n",
       " 'b_close_total_ratio',\n",
       " 'b_DAYS_CREDIT_min',\n",
       " 'b_DAYS_CREDIT_max',\n",
       " 'b_DAYS_CREDIT_ENDDATE_max',\n",
       " 'b_CNT_CREDIT_PROLONG_sum',\n",
       " 'b_AMT_CREDIT_SUM_sum',\n",
       " 'b_AMT_CREDIT_SUM_max',\n",
       " 'b_AMT_CREDIT_SUM_DEBT_sum',\n",
       " 'b_AMT_CREDIT_SUM_DEBT_max',\n",
       " 'b_AMT_CREDIT_SUM_OVERDUE_sum',\n",
       " 'PA_Previous_loan_count',\n",
       " 'PA_AMT_ANNUITY_max',\n",
       " 'PA_AMT_APPLICATION_sum',\n",
       " 'PA_AMT_APPLICATION_max',\n",
       " 'PA_AMT_CREDIT_sum',\n",
       " 'PA_NAME_CONTRACT_STATUS_approved_count',\n",
       " 'PA_CNT_PAYMENT_max',\n",
       " 'PA_CNT_PAYMENT_avg',\n",
       " 'PA_DAYS_DECISION_max_x',\n",
       " 'PA_DAYS_DECISION_max_y',\n",
       " 'IP_NUM_INSTALMENT_NUMBER_count',\n",
       " 'IP_DAYS_INSTALMENT_max',\n",
       " 'IP_DAYS_INSTALMENT_min',\n",
       " 'IP_AMT_INSTALMENT_sum',\n",
       " 'IP_AMT_INSTALMENT_avg',\n",
       " 'AT_CREDIT_INCOME_PERCENT',\n",
       " 'AT_ANNUITY_INCOME_PERCENT',\n",
       " 'AT_CREDIT_TERM',\n",
       " 'AT_DAYS_EMPLOYED_PERCENT']"
      ]
     },
     "execution_count": 11,
     "metadata": {},
     "output_type": "execute_result"
    }
   ],
   "source": [
    "numerical_features"
   ]
  },
  {
   "cell_type": "code",
   "execution_count": 12,
   "id": "bbcad75a",
   "metadata": {},
   "outputs": [],
   "source": [
    "categorical_features =  df_clean.select_dtypes(exclude = np.number).columns"
   ]
  },
  {
   "cell_type": "code",
   "execution_count": 13,
   "id": "9a065fb9",
   "metadata": {},
   "outputs": [
    {
     "data": {
      "text/plain": [
       "Index(['NAME_CONTRACT_TYPE', 'CODE_GENDER', 'FLAG_OWN_CAR', 'FLAG_OWN_REALTY',\n",
       "       'NAME_TYPE_SUITE', 'NAME_INCOME_TYPE', 'NAME_EDUCATION_TYPE',\n",
       "       'NAME_FAMILY_STATUS', 'NAME_HOUSING_TYPE', 'OCCUPATION_TYPE',\n",
       "       'WEEKDAY_APPR_PROCESS_START', 'ORGANIZATION_TYPE', 'HOUSETYPE_MODE',\n",
       "       'WALLSMATERIAL_MODE', 'EMERGENCYSTATE_MODE'],\n",
       "      dtype='object')"
      ]
     },
     "execution_count": 13,
     "metadata": {},
     "output_type": "execute_result"
    }
   ],
   "source": [
    "categorical_features"
   ]
  },
  {
   "cell_type": "code",
   "execution_count": 14,
   "id": "d03c84cf",
   "metadata": {},
   "outputs": [
    {
     "name": "stdout",
     "output_type": "stream",
     "text": [
      "\n",
      "i = 1\n",
      "0     0\n",
      "1     0\n",
      "2     1\n",
      "3     0\n",
      "4     0\n",
      "5     0\n",
      "6     0\n",
      "7     0\n",
      "8     0\n",
      "9     1\n",
      "10    0\n",
      "Name: NAME_CONTRACT_TYPE_code, dtype: int32\n",
      "\n",
      "i = 2\n"
     ]
    },
    {
     "name": "stderr",
     "output_type": "stream",
     "text": [
      "C:\\Users\\User\\anaconda3\\lib\\site-packages\\sklearn\\preprocessing\\_label.py:115: DataConversionWarning: A column-vector y was passed when a 1d array was expected. Please change the shape of y to (n_samples, ), for example using ravel().\n",
      "  y = column_or_1d(y, warn=True)\n",
      "C:\\Users\\User\\anaconda3\\lib\\site-packages\\sklearn\\preprocessing\\_label.py:115: DataConversionWarning: A column-vector y was passed when a 1d array was expected. Please change the shape of y to (n_samples, ), for example using ravel().\n",
      "  y = column_or_1d(y, warn=True)\n"
     ]
    },
    {
     "name": "stdout",
     "output_type": "stream",
     "text": [
      "0     1\n",
      "1     0\n",
      "2     1\n",
      "3     0\n",
      "4     1\n",
      "5     1\n",
      "6     0\n",
      "7     1\n",
      "8     0\n",
      "9     1\n",
      "10    0\n",
      "Name: CODE_GENDER_code, dtype: int32\n",
      "\n",
      "i = 3\n",
      "0     0\n",
      "1     0\n",
      "2     1\n",
      "3     0\n",
      "4     0\n",
      "5     0\n",
      "6     1\n",
      "7     1\n",
      "8     0\n",
      "9     0\n",
      "10    0\n",
      "Name: FLAG_OWN_CAR_code, dtype: int32\n",
      "\n",
      "i = 4\n"
     ]
    },
    {
     "name": "stderr",
     "output_type": "stream",
     "text": [
      "C:\\Users\\User\\anaconda3\\lib\\site-packages\\sklearn\\preprocessing\\_label.py:115: DataConversionWarning: A column-vector y was passed when a 1d array was expected. Please change the shape of y to (n_samples, ), for example using ravel().\n",
      "  y = column_or_1d(y, warn=True)\n",
      "C:\\Users\\User\\anaconda3\\lib\\site-packages\\sklearn\\preprocessing\\_label.py:115: DataConversionWarning: A column-vector y was passed when a 1d array was expected. Please change the shape of y to (n_samples, ), for example using ravel().\n",
      "  y = column_or_1d(y, warn=True)\n"
     ]
    },
    {
     "name": "stdout",
     "output_type": "stream",
     "text": [
      "0     1\n",
      "1     0\n",
      "2     1\n",
      "3     1\n",
      "4     1\n",
      "5     1\n",
      "6     1\n",
      "7     1\n",
      "8     1\n",
      "9     1\n",
      "10    1\n",
      "Name: FLAG_OWN_REALTY_code, dtype: int32\n",
      "\n",
      "i = 5\n",
      "0     6\n",
      "1     1\n",
      "2     6\n",
      "3     6\n",
      "4     6\n",
      "5     5\n",
      "6     6\n",
      "7     6\n",
      "8     0\n",
      "9     6\n",
      "10    6\n",
      "Name: NAME_TYPE_SUITE_code, dtype: int32\n",
      "\n",
      "i = 6\n"
     ]
    },
    {
     "name": "stderr",
     "output_type": "stream",
     "text": [
      "C:\\Users\\User\\anaconda3\\lib\\site-packages\\sklearn\\preprocessing\\_label.py:115: DataConversionWarning: A column-vector y was passed when a 1d array was expected. Please change the shape of y to (n_samples, ), for example using ravel().\n",
      "  y = column_or_1d(y, warn=True)\n",
      "C:\\Users\\User\\anaconda3\\lib\\site-packages\\sklearn\\preprocessing\\_label.py:115: DataConversionWarning: A column-vector y was passed when a 1d array was expected. Please change the shape of y to (n_samples, ), for example using ravel().\n",
      "  y = column_or_1d(y, warn=True)\n"
     ]
    },
    {
     "name": "stdout",
     "output_type": "stream",
     "text": [
      "0     7\n",
      "1     4\n",
      "2     7\n",
      "3     7\n",
      "4     7\n",
      "5     4\n",
      "6     1\n",
      "7     4\n",
      "8     3\n",
      "9     7\n",
      "10    7\n",
      "Name: NAME_INCOME_TYPE_code, dtype: int32\n",
      "\n",
      "i = 7\n",
      "0     4\n",
      "1     1\n",
      "2     4\n",
      "3     4\n",
      "4     4\n",
      "5     4\n",
      "6     1\n",
      "7     1\n",
      "8     4\n",
      "9     4\n",
      "10    1\n",
      "Name: NAME_EDUCATION_TYPE_code, dtype: int32\n",
      "\n",
      "i = 8\n"
     ]
    },
    {
     "name": "stderr",
     "output_type": "stream",
     "text": [
      "C:\\Users\\User\\anaconda3\\lib\\site-packages\\sklearn\\preprocessing\\_label.py:115: DataConversionWarning: A column-vector y was passed when a 1d array was expected. Please change the shape of y to (n_samples, ), for example using ravel().\n",
      "  y = column_or_1d(y, warn=True)\n",
      "C:\\Users\\User\\anaconda3\\lib\\site-packages\\sklearn\\preprocessing\\_label.py:115: DataConversionWarning: A column-vector y was passed when a 1d array was expected. Please change the shape of y to (n_samples, ), for example using ravel().\n",
      "  y = column_or_1d(y, warn=True)\n"
     ]
    },
    {
     "name": "stdout",
     "output_type": "stream",
     "text": [
      "0     3\n",
      "1     1\n",
      "2     3\n",
      "3     0\n",
      "4     3\n",
      "5     1\n",
      "6     1\n",
      "7     1\n",
      "8     1\n",
      "9     3\n",
      "10    1\n",
      "Name: NAME_FAMILY_STATUS_code, dtype: int32\n",
      "\n",
      "i = 9\n",
      "0     1\n",
      "1     1\n",
      "2     1\n",
      "3     1\n",
      "4     1\n",
      "5     1\n",
      "6     1\n",
      "7     1\n",
      "8     1\n",
      "9     1\n",
      "10    1\n",
      "Name: NAME_HOUSING_TYPE_code, dtype: int32\n",
      "\n",
      "i = 10\n"
     ]
    },
    {
     "name": "stderr",
     "output_type": "stream",
     "text": [
      "C:\\Users\\User\\anaconda3\\lib\\site-packages\\sklearn\\preprocessing\\_label.py:115: DataConversionWarning: A column-vector y was passed when a 1d array was expected. Please change the shape of y to (n_samples, ), for example using ravel().\n",
      "  y = column_or_1d(y, warn=True)\n",
      "C:\\Users\\User\\anaconda3\\lib\\site-packages\\sklearn\\preprocessing\\_label.py:115: DataConversionWarning: A column-vector y was passed when a 1d array was expected. Please change the shape of y to (n_samples, ), for example using ravel().\n",
      "  y = column_or_1d(y, warn=True)\n"
     ]
    },
    {
     "name": "stdout",
     "output_type": "stream",
     "text": [
      "0      8\n",
      "1      3\n",
      "2      8\n",
      "3      8\n",
      "4      3\n",
      "5      8\n",
      "6      0\n",
      "7     10\n",
      "8      8\n",
      "9      8\n",
      "10     3\n",
      "Name: OCCUPATION_TYPE_code, dtype: int32\n",
      "\n",
      "i = 11\n",
      "0     6\n",
      "1     1\n",
      "2     1\n",
      "3     6\n",
      "4     4\n",
      "5     6\n",
      "6     3\n",
      "7     1\n",
      "8     6\n",
      "9     4\n",
      "10    2\n",
      "Name: WEEKDAY_APPR_PROCESS_START_code, dtype: int32\n",
      "\n",
      "i = 12\n"
     ]
    },
    {
     "name": "stderr",
     "output_type": "stream",
     "text": [
      "C:\\Users\\User\\anaconda3\\lib\\site-packages\\sklearn\\preprocessing\\_label.py:115: DataConversionWarning: A column-vector y was passed when a 1d array was expected. Please change the shape of y to (n_samples, ), for example using ravel().\n",
      "  y = column_or_1d(y, warn=True)\n",
      "C:\\Users\\User\\anaconda3\\lib\\site-packages\\sklearn\\preprocessing\\_label.py:115: DataConversionWarning: A column-vector y was passed when a 1d array was expected. Please change the shape of y to (n_samples, ), for example using ravel().\n",
      "  y = column_or_1d(y, warn=True)\n"
     ]
    },
    {
     "name": "stdout",
     "output_type": "stream",
     "text": [
      "0      5\n",
      "1     39\n",
      "2     11\n",
      "3      5\n",
      "4     37\n",
      "5     33\n",
      "6      5\n",
      "7     33\n",
      "8     57\n",
      "9      9\n",
      "10    30\n",
      "Name: ORGANIZATION_TYPE_code, dtype: int32\n",
      "\n",
      "i = 13\n",
      "0     0\n",
      "1     0\n",
      "2     0\n",
      "3     0\n",
      "4     0\n",
      "5     0\n",
      "6     0\n",
      "7     0\n",
      "8     0\n",
      "9     0\n",
      "10    0\n",
      "Name: HOUSETYPE_MODE_code, dtype: int32\n",
      "\n",
      "i = 14\n"
     ]
    },
    {
     "name": "stderr",
     "output_type": "stream",
     "text": [
      "C:\\Users\\User\\anaconda3\\lib\\site-packages\\sklearn\\preprocessing\\_label.py:115: DataConversionWarning: A column-vector y was passed when a 1d array was expected. Please change the shape of y to (n_samples, ), for example using ravel().\n",
      "  y = column_or_1d(y, warn=True)\n",
      "C:\\Users\\User\\anaconda3\\lib\\site-packages\\sklearn\\preprocessing\\_label.py:115: DataConversionWarning: A column-vector y was passed when a 1d array was expected. Please change the shape of y to (n_samples, ), for example using ravel().\n",
      "  y = column_or_1d(y, warn=True)\n"
     ]
    },
    {
     "name": "stdout",
     "output_type": "stream",
     "text": [
      "0     5\n",
      "1     0\n",
      "2     4\n",
      "3     4\n",
      "4     4\n",
      "5     4\n",
      "6     4\n",
      "7     4\n",
      "8     4\n",
      "9     4\n",
      "10    4\n",
      "Name: WALLSMATERIAL_MODE_code, dtype: int32\n",
      "\n",
      "i = 15\n",
      "0     0\n",
      "1     0\n",
      "2     0\n",
      "3     0\n",
      "4     0\n",
      "5     0\n",
      "6     0\n",
      "7     0\n",
      "8     0\n",
      "9     0\n",
      "10    0\n",
      "Name: EMERGENCYSTATE_MODE_code, dtype: int32\n"
     ]
    },
    {
     "name": "stderr",
     "output_type": "stream",
     "text": [
      "C:\\Users\\User\\anaconda3\\lib\\site-packages\\sklearn\\preprocessing\\_label.py:115: DataConversionWarning: A column-vector y was passed when a 1d array was expected. Please change the shape of y to (n_samples, ), for example using ravel().\n",
      "  y = column_or_1d(y, warn=True)\n"
     ]
    }
   ],
   "source": [
    "i = 1\n",
    "for each in categorical_features:\n",
    "    print(\"\\ni = %d\" %i)\n",
    "    i                +=  1\n",
    "    newcol            =  each + \"_code\"\n",
    "    df_clean[newcol]  =  le.fit_transform(df_clean[[each]])\n",
    "    \n",
    "    df_clean.drop(each, axis=1, inplace = True)\n",
    "    print(df_clean[newcol].head(11))"
   ]
  },
  {
   "cell_type": "code",
   "execution_count": 15,
   "id": "bfee2d8d",
   "metadata": {},
   "outputs": [
    {
     "data": {
      "text/plain": [
       "Index(['SK_ID_CURR', 'TARGET', 'CNT_CHILDREN', 'AMT_INCOME_TOTAL',\n",
       "       'AMT_CREDIT', 'AMT_ANNUITY', 'AMT_GOODS_PRICE',\n",
       "       'REGION_POPULATION_RELATIVE', 'DAYS_BIRTH', 'DAYS_EMPLOYED',\n",
       "       ...\n",
       "       'NAME_INCOME_TYPE_code', 'NAME_EDUCATION_TYPE_code',\n",
       "       'NAME_FAMILY_STATUS_code', 'NAME_HOUSING_TYPE_code',\n",
       "       'OCCUPATION_TYPE_code', 'WEEKDAY_APPR_PROCESS_START_code',\n",
       "       'ORGANIZATION_TYPE_code', 'HOUSETYPE_MODE_code',\n",
       "       'WALLSMATERIAL_MODE_code', 'EMERGENCYSTATE_MODE_code'],\n",
       "      dtype='object', length=136)"
      ]
     },
     "execution_count": 15,
     "metadata": {},
     "output_type": "execute_result"
    }
   ],
   "source": [
    "df_clean.columns"
   ]
  },
  {
   "cell_type": "code",
   "execution_count": 16,
   "id": "ffb7347b",
   "metadata": {},
   "outputs": [
    {
     "data": {
      "text/plain": [
       "SK_ID_CURR                           int64\n",
       "TARGET                               int64\n",
       "CNT_CHILDREN                         int64\n",
       "AMT_INCOME_TOTAL                   float64\n",
       "AMT_CREDIT                         float64\n",
       "                                    ...   \n",
       "WEEKDAY_APPR_PROCESS_START_code      int32\n",
       "ORGANIZATION_TYPE_code               int32\n",
       "HOUSETYPE_MODE_code                  int32\n",
       "WALLSMATERIAL_MODE_code              int32\n",
       "EMERGENCYSTATE_MODE_code             int32\n",
       "Length: 136, dtype: object"
      ]
     },
     "execution_count": 16,
     "metadata": {},
     "output_type": "execute_result"
    }
   ],
   "source": [
    "df_clean.dtypes"
   ]
  },
  {
   "cell_type": "markdown",
   "id": "e6c292e7",
   "metadata": {},
   "source": [
    "cat_names   = ['NAME_CONTRACT_TYPE_code', 'CODE_GENDER_code', 'FLAG_OWN_CAR_code', 'FLAG_OWN_REALTY_code',\\\n",
    "               'NAME_TYPE_SUITE_code', 'NAME_INCOME_TYPE_code', 'NAME_EDUCATION_TYPE_code',\\\n",
    "               'NAME_FAMILY_STATUS_code', 'NAME_HOUSING_TYPE_code', 'OCCUPATION_TYPE_code',\\\n",
    "               'WEEKDAY_APPR_PROCESS_START_code', 'ORGANIZATION_TYPE_code', 'HOUSETYPE_MODE_code',\\\n",
    "               'WALLSMATERIAL_MODE_code', 'EMERGENCYSTATE_MODE_code']\n",
    "Xcols       =  numerical_features + cat_names\n",
    "print(Xcols); print(len(Xcols))"
   ]
  },
  {
   "cell_type": "markdown",
   "id": "bce8ff22",
   "metadata": {},
   "source": [
    "### Remove the unwanted variable such as ID variable, SK_ID_CURR"
   ]
  },
  {
   "cell_type": "code",
   "execution_count": 17,
   "id": "d070729a",
   "metadata": {},
   "outputs": [],
   "source": [
    "Xcols =   df_clean.columns.to_list()\n",
    "Xcols.remove('SK_ID_CURR')\n",
    "Xcols.remove('TARGET')"
   ]
  },
  {
   "cell_type": "code",
   "execution_count": 18,
   "id": "f59522aa",
   "metadata": {},
   "outputs": [
    {
     "data": {
      "text/plain": [
       "134"
      ]
     },
     "execution_count": 18,
     "metadata": {},
     "output_type": "execute_result"
    }
   ],
   "source": [
    "len(Xcols)"
   ]
  },
  {
   "cell_type": "code",
   "execution_count": 19,
   "id": "a2686ca2",
   "metadata": {},
   "outputs": [
    {
     "name": "stdout",
     "output_type": "stream",
     "text": [
      "X dimension (307511, 134)\n",
      "y dimension (307511,)\n"
     ]
    }
   ],
   "source": [
    "# define dataset\n",
    "y             =    df_clean['TARGET']\n",
    "X             =    df_clean.loc[:, Xcols]   \n",
    "print('X dimension {}'. format(X.shape))\n",
    "print('y dimension {}'. format(y.shape))"
   ]
  },
  {
   "cell_type": "markdown",
   "id": "b222c17f",
   "metadata": {},
   "source": [
    "### Find the proportion of classes in the target variable, TARGET"
   ]
  },
  {
   "cell_type": "code",
   "execution_count": 20,
   "id": "435fee16",
   "metadata": {},
   "outputs": [
    {
     "data": {
      "text/plain": [
       "0    282686\n",
       "1     24825\n",
       "Name: TARGET, dtype: int64"
      ]
     },
     "execution_count": 20,
     "metadata": {},
     "output_type": "execute_result"
    }
   ],
   "source": [
    "df_clean['TARGET'].value_counts()"
   ]
  },
  {
   "cell_type": "code",
   "execution_count": 21,
   "id": "8621149e",
   "metadata": {},
   "outputs": [
    {
     "data": {
      "text/plain": [
       "0    0.919271\n",
       "1    0.080729\n",
       "Name: TARGET, dtype: float64"
      ]
     },
     "execution_count": 21,
     "metadata": {},
     "output_type": "execute_result"
    }
   ],
   "source": [
    "df_clean['TARGET'].value_counts(normalize=True)"
   ]
  },
  {
   "cell_type": "markdown",
   "id": "0a22dc5d",
   "metadata": {},
   "source": [
    "### Choose the right metric for measuring the performance of the machine learning models."
   ]
  },
  {
   "cell_type": "markdown",
   "id": "a61ac5a2",
   "metadata": {},
   "source": [
    "Recall is important for predicting loan default because it reflects the ability of the classifier to capture the risky loans that should be avoided by the investors. A low recall means that many loans that will default are missed by the classifier and classified as fully paid, which can lead to significant losses for the investors. A high recall means that most of the loans that will default are correctly identified by the classifier and excluded from the investment portfolio, which can reduce the risk and increase the return for the investors.\n",
    "\n",
    "However, recall is not the only metric that should be considered for predicting loan default. Recall does not take into account the false positives (FP), which are the loans that are incorrectly predicted to default but actually fully paid. A high recall can be achieved by simply predicting all loans to default, but this will also result in a high number of false positives and a low precision, which is the ratio of true positives to the sum of true positives and false positives. Precision measures how accurate the classifier is when it predicts a loan to default. A low precision means that many loans that are predicted to default are actually fully paid, which can lead to missed opportunities for the investors. A high precision means that most of the loans that are predicted to default are actually default, which can increase the confidence and efficiency of the investors.\n",
    "\n",
    "Therefore, recall and precision are often used together to evaluate the performance of a classifier for predicting loan default. A trade-off between recall and precision can be observed, where increasing one may decrease the other. A common way to combine recall and precision into a single metric is the F1-score, which is the harmonic mean of recall and precision. The F1-score can range from 0 to 1, where a higher value indicates a better balance between recall and precision.\n",
    "\n",
    "Weighted F1 average is a metric that can be used to evaluate the performance of a binary classifier that predicts whether a loan will default or not. It is calculated as the harmonic mean of weighted precision and weighted recall, where the weights are proportional to the number of true instances for each label1. A higher weighted F1 average means that the classifier is more accurate and balanced in predicting both classes.\n",
    "\n",
    "\n"
   ]
  },
  {
   "cell_type": "markdown",
   "id": "19cb73b5",
   "metadata": {},
   "source": [
    "### Observation\n",
    "\n",
    "Our dataset is not balanced. So, we choose, Weighted F1 average as the metric to measure the performance of the models.\n",
    "\n",
    "We have used the followig classifier for performing RFE:\n",
    "\n",
    "Random Forest classifier: **Random Forest** is a classifier that contains a number of decision trees on various subsets of the given dataset and takes the average to improve the predictive accuracy of that dataset.\" Instead of relying on one decision tree, the random forest takes the prediction from each tree and based on the majority votes of predictions, and it predicts the final output."
   ]
  },
  {
   "cell_type": "code",
   "execution_count": 22,
   "id": "5e7cc14c",
   "metadata": {},
   "outputs": [],
   "source": [
    "collist = X.columns"
   ]
  },
  {
   "cell_type": "code",
   "execution_count": 23,
   "id": "c35c25cf",
   "metadata": {},
   "outputs": [
    {
     "data": {
      "text/plain": [
       "Index(['CNT_CHILDREN', 'AMT_INCOME_TOTAL', 'AMT_CREDIT', 'AMT_ANNUITY',\n",
       "       'AMT_GOODS_PRICE', 'REGION_POPULATION_RELATIVE', 'DAYS_BIRTH',\n",
       "       'DAYS_EMPLOYED', 'DAYS_REGISTRATION', 'DAYS_ID_PUBLISH',\n",
       "       ...\n",
       "       'NAME_INCOME_TYPE_code', 'NAME_EDUCATION_TYPE_code',\n",
       "       'NAME_FAMILY_STATUS_code', 'NAME_HOUSING_TYPE_code',\n",
       "       'OCCUPATION_TYPE_code', 'WEEKDAY_APPR_PROCESS_START_code',\n",
       "       'ORGANIZATION_TYPE_code', 'HOUSETYPE_MODE_code',\n",
       "       'WALLSMATERIAL_MODE_code', 'EMERGENCYSTATE_MODE_code'],\n",
       "      dtype='object', length=134)"
      ]
     },
     "execution_count": 23,
     "metadata": {},
     "output_type": "execute_result"
    }
   ],
   "source": [
    "collist"
   ]
  },
  {
   "cell_type": "code",
   "execution_count": 24,
   "id": "0d06245d",
   "metadata": {},
   "outputs": [],
   "source": [
    "categorical_features_X =  X.select_dtypes(exclude = np.number).columns"
   ]
  },
  {
   "cell_type": "code",
   "execution_count": 25,
   "id": "255efbd8",
   "metadata": {},
   "outputs": [
    {
     "data": {
      "text/plain": [
       "Index([], dtype='object')"
      ]
     },
     "execution_count": 25,
     "metadata": {},
     "output_type": "execute_result"
    }
   ],
   "source": [
    "categorical_features_X"
   ]
  },
  {
   "cell_type": "code",
   "execution_count": 26,
   "id": "40e30a2b",
   "metadata": {},
   "outputs": [
    {
     "name": "stdout",
     "output_type": "stream",
     "text": [
      "Column: 0, Selected False, Rank: 64.000\n",
      "Column: 1, Selected False, Rank: 21.000\n",
      "Column: 2, Selected False, Rank: 6.000\n",
      "Column: 3, Selected True, Rank: 1.000\n",
      "Column: 4, Selected False, Rank: 19.000\n",
      "Column: 5, Selected False, Rank: 12.000\n",
      "Column: 6, Selected True, Rank: 1.000\n",
      "Column: 7, Selected False, Rank: 7.000\n",
      "Column: 8, Selected True, Rank: 1.000\n",
      "Column: 9, Selected True, Rank: 1.000\n",
      "Column: 10, Selected False, Rank: 118.000\n",
      "Column: 11, Selected False, Rank: 89.000\n",
      "Column: 12, Selected False, Rank: 80.000\n",
      "Column: 13, Selected False, Rank: 107.000\n",
      "Column: 14, Selected False, Rank: 78.000\n",
      "Column: 15, Selected False, Rank: 92.000\n",
      "Column: 16, Selected False, Rank: 52.000\n",
      "Column: 17, Selected False, Rank: 69.000\n",
      "Column: 18, Selected False, Rank: 61.000\n",
      "Column: 19, Selected False, Rank: 22.000\n",
      "Column: 20, Selected False, Rank: 98.000\n",
      "Column: 21, Selected False, Rank: 90.000\n",
      "Column: 22, Selected False, Rank: 95.000\n",
      "Column: 23, Selected False, Rank: 82.000\n",
      "Column: 24, Selected False, Rank: 74.000\n",
      "Column: 25, Selected False, Rank: 83.000\n",
      "Column: 26, Selected False, Rank: 10.000\n",
      "Column: 27, Selected True, Rank: 1.000\n",
      "Column: 28, Selected True, Rank: 1.000\n",
      "Column: 29, Selected False, Rank: 36.000\n",
      "Column: 30, Selected False, Rank: 48.000\n",
      "Column: 31, Selected False, Rank: 40.000\n",
      "Column: 32, Selected False, Rank: 84.000\n",
      "Column: 33, Selected False, Rank: 59.000\n",
      "Column: 34, Selected False, Rank: 65.000\n",
      "Column: 35, Selected False, Rank: 33.000\n",
      "Column: 36, Selected False, Rank: 29.000\n",
      "Column: 37, Selected False, Rank: 56.000\n",
      "Column: 38, Selected False, Rank: 50.000\n",
      "Column: 39, Selected False, Rank: 49.000\n",
      "Column: 40, Selected False, Rank: 42.000\n",
      "Column: 41, Selected False, Rank: 87.000\n",
      "Column: 42, Selected False, Rank: 60.000\n",
      "Column: 43, Selected False, Rank: 76.000\n",
      "Column: 44, Selected False, Rank: 44.000\n",
      "Column: 45, Selected False, Rank: 23.000\n",
      "Column: 46, Selected False, Rank: 57.000\n",
      "Column: 47, Selected False, Rank: 45.000\n",
      "Column: 48, Selected False, Rank: 41.000\n",
      "Column: 49, Selected False, Rank: 28.000\n",
      "Column: 50, Selected False, Rank: 86.000\n",
      "Column: 51, Selected False, Rank: 63.000\n",
      "Column: 52, Selected False, Rank: 70.000\n",
      "Column: 53, Selected False, Rank: 53.000\n",
      "Column: 54, Selected False, Rank: 38.000\n",
      "Column: 55, Selected False, Rank: 51.000\n",
      "Column: 56, Selected False, Rank: 27.000\n",
      "Column: 57, Selected False, Rank: 39.000\n",
      "Column: 58, Selected False, Rank: 66.000\n",
      "Column: 59, Selected False, Rank: 43.000\n",
      "Column: 60, Selected False, Rank: 75.000\n",
      "Column: 61, Selected False, Rank: 4.000\n",
      "Column: 62, Selected False, Rank: 115.000\n",
      "Column: 63, Selected False, Rank: 72.000\n",
      "Column: 64, Selected False, Rank: 117.000\n",
      "Column: 65, Selected False, Rank: 97.000\n",
      "Column: 66, Selected False, Rank: 96.000\n",
      "Column: 67, Selected False, Rank: 116.000\n",
      "Column: 68, Selected False, Rank: 91.000\n",
      "Column: 69, Selected False, Rank: 105.000\n",
      "Column: 70, Selected False, Rank: 120.000\n",
      "Column: 71, Selected False, Rank: 106.000\n",
      "Column: 72, Selected False, Rank: 119.000\n",
      "Column: 73, Selected False, Rank: 108.000\n",
      "Column: 74, Selected False, Rank: 110.000\n",
      "Column: 75, Selected False, Rank: 111.000\n",
      "Column: 76, Selected False, Rank: 103.000\n",
      "Column: 77, Selected False, Rank: 114.000\n",
      "Column: 78, Selected False, Rank: 104.000\n",
      "Column: 79, Selected False, Rank: 109.000\n",
      "Column: 80, Selected False, Rank: 113.000\n",
      "Column: 81, Selected False, Rank: 112.000\n",
      "Column: 82, Selected False, Rank: 100.000\n",
      "Column: 83, Selected False, Rank: 101.000\n",
      "Column: 84, Selected False, Rank: 94.000\n",
      "Column: 85, Selected False, Rank: 81.000\n",
      "Column: 86, Selected False, Rank: 71.000\n",
      "Column: 87, Selected False, Rank: 47.000\n",
      "Column: 88, Selected False, Rank: 31.000\n",
      "Column: 89, Selected False, Rank: 37.000\n",
      "Column: 90, Selected False, Rank: 24.000\n",
      "Column: 91, Selected False, Rank: 3.000\n",
      "Column: 92, Selected False, Rank: 2.000\n",
      "Column: 93, Selected False, Rank: 9.000\n",
      "Column: 94, Selected False, Rank: 93.000\n",
      "Column: 95, Selected False, Rank: 14.000\n",
      "Column: 96, Selected False, Rank: 16.000\n",
      "Column: 97, Selected False, Rank: 20.000\n",
      "Column: 98, Selected False, Rank: 25.000\n",
      "Column: 99, Selected False, Rank: 85.000\n",
      "Column: 100, Selected False, Rank: 30.000\n",
      "Column: 101, Selected False, Rank: 15.000\n",
      "Column: 102, Selected False, Rank: 8.000\n",
      "Column: 103, Selected False, Rank: 18.000\n",
      "Column: 104, Selected True, Rank: 1.000\n",
      "Column: 105, Selected False, Rank: 46.000\n",
      "Column: 106, Selected False, Rank: 35.000\n",
      "Column: 107, Selected False, Rank: 13.000\n",
      "Column: 108, Selected False, Rank: 11.000\n",
      "Column: 109, Selected True, Rank: 1.000\n",
      "Column: 110, Selected False, Rank: 17.000\n",
      "Column: 111, Selected False, Rank: 5.000\n",
      "Column: 112, Selected True, Rank: 1.000\n",
      "Column: 113, Selected True, Rank: 1.000\n",
      "Column: 114, Selected True, Rank: 1.000\n",
      "Column: 115, Selected True, Rank: 1.000\n",
      "Column: 116, Selected True, Rank: 1.000\n",
      "Column: 117, Selected True, Rank: 1.000\n",
      "Column: 118, Selected True, Rank: 1.000\n",
      "Column: 119, Selected False, Rank: 88.000\n",
      "Column: 120, Selected False, Rank: 62.000\n",
      "Column: 121, Selected False, Rank: 73.000\n",
      "Column: 122, Selected False, Rank: 79.000\n",
      "Column: 123, Selected False, Rank: 68.000\n",
      "Column: 124, Selected False, Rank: 58.000\n",
      "Column: 125, Selected False, Rank: 54.000\n",
      "Column: 126, Selected False, Rank: 55.000\n",
      "Column: 127, Selected False, Rank: 67.000\n",
      "Column: 128, Selected False, Rank: 34.000\n",
      "Column: 129, Selected False, Rank: 32.000\n",
      "Column: 130, Selected False, Rank: 26.000\n",
      "Column: 131, Selected False, Rank: 99.000\n",
      "Column: 132, Selected False, Rank: 77.000\n",
      "Column: 133, Selected False, Rank: 102.000\n"
     ]
    }
   ],
   "source": [
    "# define RFE\n",
    "rfe = RFE(estimator = RandomForestClassifier(n_estimators= 10, criterion = \"entropy\"), n_features_to_select = 15)\n",
    "\n",
    "# fit RFE\n",
    "rfe.fit(X, y)\n",
    "# summarize all features\n",
    "\n",
    "sno_L        =    list()\n",
    "support_text =    list()\n",
    "rank_list    =    list()\n",
    "\n",
    "for i in range(X.shape[1]):\n",
    "    sno_L.append(i)\n",
    "    support_text.append(rfe.support_[i])\n",
    "    rank_list.append(rfe.ranking_[i])\n",
    "    print('Column: %d, Selected %s, Rank: %.3f' % (i, rfe.support_[i], rfe.ranking_[i]))"
   ]
  },
  {
   "cell_type": "code",
   "execution_count": 27,
   "id": "38679258",
   "metadata": {},
   "outputs": [],
   "source": [
    "df_imp  =  pd.DataFrame({'Sno' : sno_L, 'Selected?' : support_text, 'Rank' : rank_list, 'Columns' : collist })"
   ]
  },
  {
   "cell_type": "code",
   "execution_count": 28,
   "id": "175cc967",
   "metadata": {},
   "outputs": [
    {
     "data": {
      "text/html": [
       "<div>\n",
       "<style scoped>\n",
       "    .dataframe tbody tr th:only-of-type {\n",
       "        vertical-align: middle;\n",
       "    }\n",
       "\n",
       "    .dataframe tbody tr th {\n",
       "        vertical-align: top;\n",
       "    }\n",
       "\n",
       "    .dataframe thead th {\n",
       "        text-align: right;\n",
       "    }\n",
       "</style>\n",
       "<table border=\"1\" class=\"dataframe\">\n",
       "  <thead>\n",
       "    <tr style=\"text-align: right;\">\n",
       "      <th></th>\n",
       "      <th>Sno</th>\n",
       "      <th>Selected?</th>\n",
       "      <th>Rank</th>\n",
       "      <th>Columns</th>\n",
       "    </tr>\n",
       "  </thead>\n",
       "  <tbody>\n",
       "    <tr>\n",
       "      <th>0</th>\n",
       "      <td>0</td>\n",
       "      <td>False</td>\n",
       "      <td>64</td>\n",
       "      <td>CNT_CHILDREN</td>\n",
       "    </tr>\n",
       "    <tr>\n",
       "      <th>1</th>\n",
       "      <td>1</td>\n",
       "      <td>False</td>\n",
       "      <td>21</td>\n",
       "      <td>AMT_INCOME_TOTAL</td>\n",
       "    </tr>\n",
       "    <tr>\n",
       "      <th>2</th>\n",
       "      <td>2</td>\n",
       "      <td>False</td>\n",
       "      <td>6</td>\n",
       "      <td>AMT_CREDIT</td>\n",
       "    </tr>\n",
       "    <tr>\n",
       "      <th>3</th>\n",
       "      <td>3</td>\n",
       "      <td>True</td>\n",
       "      <td>1</td>\n",
       "      <td>AMT_ANNUITY</td>\n",
       "    </tr>\n",
       "    <tr>\n",
       "      <th>4</th>\n",
       "      <td>4</td>\n",
       "      <td>False</td>\n",
       "      <td>19</td>\n",
       "      <td>AMT_GOODS_PRICE</td>\n",
       "    </tr>\n",
       "    <tr>\n",
       "      <th>...</th>\n",
       "      <td>...</td>\n",
       "      <td>...</td>\n",
       "      <td>...</td>\n",
       "      <td>...</td>\n",
       "    </tr>\n",
       "    <tr>\n",
       "      <th>129</th>\n",
       "      <td>129</td>\n",
       "      <td>False</td>\n",
       "      <td>32</td>\n",
       "      <td>WEEKDAY_APPR_PROCESS_START_code</td>\n",
       "    </tr>\n",
       "    <tr>\n",
       "      <th>130</th>\n",
       "      <td>130</td>\n",
       "      <td>False</td>\n",
       "      <td>26</td>\n",
       "      <td>ORGANIZATION_TYPE_code</td>\n",
       "    </tr>\n",
       "    <tr>\n",
       "      <th>131</th>\n",
       "      <td>131</td>\n",
       "      <td>False</td>\n",
       "      <td>99</td>\n",
       "      <td>HOUSETYPE_MODE_code</td>\n",
       "    </tr>\n",
       "    <tr>\n",
       "      <th>132</th>\n",
       "      <td>132</td>\n",
       "      <td>False</td>\n",
       "      <td>77</td>\n",
       "      <td>WALLSMATERIAL_MODE_code</td>\n",
       "    </tr>\n",
       "    <tr>\n",
       "      <th>133</th>\n",
       "      <td>133</td>\n",
       "      <td>False</td>\n",
       "      <td>102</td>\n",
       "      <td>EMERGENCYSTATE_MODE_code</td>\n",
       "    </tr>\n",
       "  </tbody>\n",
       "</table>\n",
       "<p>134 rows × 4 columns</p>\n",
       "</div>"
      ],
      "text/plain": [
       "     Sno  Selected?  Rank                          Columns\n",
       "0      0      False    64                     CNT_CHILDREN\n",
       "1      1      False    21                 AMT_INCOME_TOTAL\n",
       "2      2      False     6                       AMT_CREDIT\n",
       "3      3       True     1                      AMT_ANNUITY\n",
       "4      4      False    19                  AMT_GOODS_PRICE\n",
       "..   ...        ...   ...                              ...\n",
       "129  129      False    32  WEEKDAY_APPR_PROCESS_START_code\n",
       "130  130      False    26           ORGANIZATION_TYPE_code\n",
       "131  131      False    99              HOUSETYPE_MODE_code\n",
       "132  132      False    77          WALLSMATERIAL_MODE_code\n",
       "133  133      False   102         EMERGENCYSTATE_MODE_code\n",
       "\n",
       "[134 rows x 4 columns]"
      ]
     },
     "execution_count": 28,
     "metadata": {},
     "output_type": "execute_result"
    }
   ],
   "source": [
    "df_imp"
   ]
  },
  {
   "cell_type": "code",
   "execution_count": 29,
   "id": "f9e5ad66",
   "metadata": {},
   "outputs": [],
   "source": [
    "imp_variables_df  =  df_imp.loc[df_imp['Selected?'] == True, 'Columns']"
   ]
  },
  {
   "cell_type": "code",
   "execution_count": 30,
   "id": "ab82f08a",
   "metadata": {},
   "outputs": [
    {
     "data": {
      "text/plain": [
       "3                    AMT_ANNUITY\n",
       "6                     DAYS_BIRTH\n",
       "8              DAYS_REGISTRATION\n",
       "9                DAYS_ID_PUBLISH\n",
       "27                  EXT_SOURCE_2\n",
       "28                  EXT_SOURCE_3\n",
       "104            PA_AMT_CREDIT_sum\n",
       "109       PA_DAYS_DECISION_max_y\n",
       "112       IP_DAYS_INSTALMENT_min\n",
       "113        IP_AMT_INSTALMENT_sum\n",
       "114        IP_AMT_INSTALMENT_avg\n",
       "115     AT_CREDIT_INCOME_PERCENT\n",
       "116    AT_ANNUITY_INCOME_PERCENT\n",
       "117               AT_CREDIT_TERM\n",
       "118     AT_DAYS_EMPLOYED_PERCENT\n",
       "Name: Columns, dtype: object"
      ]
     },
     "execution_count": 30,
     "metadata": {},
     "output_type": "execute_result"
    }
   ],
   "source": [
    "imp_variables_df"
   ]
  },
  {
   "cell_type": "code",
   "execution_count": 31,
   "id": "6d1a56f0",
   "metadata": {},
   "outputs": [
    {
     "name": "stdout",
     "output_type": "stream",
     "text": [
      "['AMT_ANNUITY', 'DAYS_BIRTH', 'DAYS_REGISTRATION', 'DAYS_ID_PUBLISH', 'EXT_SOURCE_2', 'EXT_SOURCE_3', 'PA_AMT_CREDIT_sum', 'PA_DAYS_DECISION_max_y', 'IP_DAYS_INSTALMENT_min', 'IP_AMT_INSTALMENT_sum', 'IP_AMT_INSTALMENT_avg', 'AT_CREDIT_INCOME_PERCENT', 'AT_ANNUITY_INCOME_PERCENT', 'AT_CREDIT_TERM', 'AT_DAYS_EMPLOYED_PERCENT']\n"
     ]
    }
   ],
   "source": [
    "reqd_vars = imp_variables_df.values.tolist()\n",
    "print(reqd_vars)"
   ]
  },
  {
   "cell_type": "code",
   "execution_count": 32,
   "id": "74d0a19d",
   "metadata": {},
   "outputs": [],
   "source": [
    "# using + operator + list conversion \n",
    "target     = 'TARGET'\n",
    "reqd_vars += [target] "
   ]
  },
  {
   "cell_type": "code",
   "execution_count": 33,
   "id": "ce2afe55",
   "metadata": {},
   "outputs": [],
   "source": [
    "df_clean =  df_.loc[:, reqd_vars]"
   ]
  },
  {
   "cell_type": "code",
   "execution_count": 34,
   "id": "91cc9397",
   "metadata": {},
   "outputs": [
    {
     "data": {
      "text/plain": [
       "(307511, 16)"
      ]
     },
     "execution_count": 34,
     "metadata": {},
     "output_type": "execute_result"
    }
   ],
   "source": [
    "df_clean.shape"
   ]
  },
  {
   "cell_type": "markdown",
   "id": "12f88b67",
   "metadata": {},
   "source": [
    "### Observation\n",
    "\n",
    "The dataset after feature elimination of least important variables contains 307511 rows and 16 columns."
   ]
  },
  {
   "cell_type": "markdown",
   "id": "c36dca2f",
   "metadata": {},
   "source": [
    "### Detect outliers and treat them\n",
    "We need to find numerical variables and check if there are any outliers."
   ]
  },
  {
   "cell_type": "code",
   "execution_count": 35,
   "id": "b2e171cb",
   "metadata": {},
   "outputs": [],
   "source": [
    "num_vars =  df_clean.select_dtypes(include=np.number).columns"
   ]
  },
  {
   "cell_type": "code",
   "execution_count": 36,
   "id": "bef26537",
   "metadata": {},
   "outputs": [
    {
     "data": {
      "text/plain": [
       "Index(['AMT_ANNUITY', 'DAYS_BIRTH', 'DAYS_REGISTRATION', 'DAYS_ID_PUBLISH',\n",
       "       'EXT_SOURCE_2', 'EXT_SOURCE_3', 'PA_AMT_CREDIT_sum',\n",
       "       'PA_DAYS_DECISION_max_y', 'IP_DAYS_INSTALMENT_min',\n",
       "       'IP_AMT_INSTALMENT_sum', 'IP_AMT_INSTALMENT_avg',\n",
       "       'AT_CREDIT_INCOME_PERCENT', 'AT_ANNUITY_INCOME_PERCENT',\n",
       "       'AT_CREDIT_TERM', 'AT_DAYS_EMPLOYED_PERCENT', 'TARGET'],\n",
       "      dtype='object')"
      ]
     },
     "execution_count": 36,
     "metadata": {},
     "output_type": "execute_result"
    }
   ],
   "source": [
    "num_vars"
   ]
  },
  {
   "cell_type": "code",
   "execution_count": 41,
   "id": "dd74c4d3",
   "metadata": {},
   "outputs": [],
   "source": [
    "independent_numvars = ['AMT_ANNUITY', 'DAYS_BIRTH', 'DAYS_REGISTRATION', 'DAYS_ID_PUBLISH','EXT_SOURCE_2', 'EXT_SOURCE_3',\\\n",
    "                       'PA_AMT_CREDIT_sum','PA_DAYS_DECISION_max_y', 'IP_DAYS_INSTALMENT_min','IP_AMT_INSTALMENT_sum',\\\n",
    "                       'IP_AMT_INSTALMENT_avg','AT_CREDIT_INCOME_PERCENT', 'AT_ANNUITY_INCOME_PERCENT','AT_CREDIT_TERM',\\\n",
    "                       'AT_DAYS_EMPLOYED_PERCENT']"
   ]
  },
  {
   "cell_type": "code",
   "execution_count": 42,
   "id": "c05c2cc0",
   "metadata": {},
   "outputs": [
    {
     "data": {
      "image/png": "[encoded data removed]",
      "text/plain": [
       "<Figure size 432x288 with 1 Axes>"
      ]
     },
     "metadata": {
      "needs_background": "light"
     },
     "output_type": "display_data"
    },
    {
     "name": "stdout",
     "output_type": "stream",
     "text": [
      "Statistics for AMT_ANNUITY\n",
      "count    307511.000000\n",
      "mean      26797.657150\n",
      "std       13281.285661\n",
      "min        1615.500000\n",
      "25%       16524.000000\n",
      "50%       24903.000000\n",
      "75%       34596.000000\n",
      "max       61704.000000\n",
      "Name: AMT_ANNUITY, dtype: float64\n"
     ]
    },
    {
     "data": {
      "image/png": "[encoded data removed]",
      "text/plain": [
       "<Figure size 432x288 with 1 Axes>"
      ]
     },
     "metadata": {
      "needs_background": "light"
     },
     "output_type": "display_data"
    },
    {
     "name": "stdout",
     "output_type": "stream",
     "text": [
      "Statistics for DAYS_BIRTH\n",
      "count    307511.000000\n",
      "mean     -16036.995067\n",
      "std        4363.988632\n",
      "min      -25229.000000\n",
      "25%      -19682.000000\n",
      "50%      -15750.000000\n",
      "75%      -12413.000000\n",
      "max       -7489.000000\n",
      "Name: DAYS_BIRTH, dtype: float64\n"
     ]
    },
    {
     "data": {
      "image/png": "[encoded data removed]",
      "text/plain": [
       "<Figure size 432x288 with 1 Axes>"
      ]
     },
     "metadata": {
      "needs_background": "light"
     },
     "output_type": "display_data"
    },
    {
     "name": "stdout",
     "output_type": "stream",
     "text": [
      "Statistics for DAYS_REGISTRATION\n",
      "count    307511.000000\n",
      "mean      -4983.512526\n",
      "std        3513.934117\n",
      "min      -15683.750000\n",
      "25%       -7479.500000\n",
      "50%       -4504.000000\n",
      "75%       -2010.000000\n",
      "max           0.000000\n",
      "Name: DAYS_REGISTRATION, dtype: float64\n"
     ]
    },
    {
     "data": {
      "image/png": "[encoded data removed]",
      "text/plain": [
       "<Figure size 432x288 with 1 Axes>"
      ]
     },
     "metadata": {
      "needs_background": "light"
     },
     "output_type": "display_data"
    },
    {
     "name": "stdout",
     "output_type": "stream",
     "text": [
      "Statistics for DAYS_ID_PUBLISH\n",
      "count    307511.000000\n",
      "mean      -2994.202373\n",
      "std        1509.450419\n",
      "min       -7197.000000\n",
      "25%       -4299.000000\n",
      "50%       -3254.000000\n",
      "75%       -1720.000000\n",
      "max           0.000000\n",
      "Name: DAYS_ID_PUBLISH, dtype: float64\n"
     ]
    },
    {
     "data": {
      "image/png": "[encoded data removed]",
      "text/plain": [
       "<Figure size 432x288 with 1 Axes>"
      ]
     },
     "metadata": {
      "needs_background": "light"
     },
     "output_type": "display_data"
    },
    {
     "name": "stdout",
     "output_type": "stream",
     "text": [
      "Statistics for EXT_SOURCE_2\n",
      "count    3.075110e+05\n",
      "mean     5.145034e-01\n",
      "std      1.908699e-01\n",
      "min      8.173617e-08\n",
      "25%      3.929737e-01\n",
      "50%      5.659614e-01\n",
      "75%      6.634218e-01\n",
      "max      8.549997e-01\n",
      "Name: EXT_SOURCE_2, dtype: float64\n"
     ]
    },
    {
     "data": {
      "image/png": "[encoded data removed]",
      "text/plain": [
       "<Figure size 432x288 with 1 Axes>"
      ]
     },
     "metadata": {
      "needs_background": "light"
     },
     "output_type": "display_data"
    },
    {
     "name": "stdout",
     "output_type": "stream",
     "text": [
      "Statistics for EXT_SOURCE_3\n",
      "count    307511.000000\n",
      "mean          0.516216\n",
      "std           0.173364\n",
      "min           0.088185\n",
      "25%           0.417100\n",
      "50%           0.535276\n",
      "75%           0.636376\n",
      "max           0.896010\n",
      "Name: EXT_SOURCE_3, dtype: float64\n"
     ]
    },
    {
     "data": {
      "image/png": "[encoded data removed]",
      "text/plain": [
       "<Figure size 432x288 with 1 Axes>"
      ]
     },
     "metadata": {
      "needs_background": "light"
     },
     "output_type": "display_data"
    },
    {
     "name": "stdout",
     "output_type": "stream",
     "text": [
      "Statistics for PA_AMT_CREDIT_sum\n",
      "count    3.075110e+05\n",
      "mean     9.026859e+05\n",
      "std      1.462142e+06\n",
      "min      0.000000e+00\n",
      "25%      1.309185e+05\n",
      "50%      3.837780e+05\n",
      "75%      1.090627e+06\n",
      "max      4.146113e+07\n",
      "Name: PA_AMT_CREDIT_sum, dtype: float64\n"
     ]
    },
    {
     "data": {
      "image/png": "[encoded data removed]",
      "text/plain": [
       "<Figure size 432x288 with 1 Axes>"
      ]
     },
     "metadata": {
      "needs_background": "light"
     },
     "output_type": "display_data"
    },
    {
     "name": "stdout",
     "output_type": "stream",
     "text": [
      "Statistics for PA_DAYS_DECISION_max_y\n",
      "count    307511.000000\n",
      "mean       -455.089740\n",
      "std         536.559151\n",
      "min       -2922.000000\n",
      "25%        -569.000000\n",
      "50%        -279.000000\n",
      "75%        -123.000000\n",
      "max           0.000000\n",
      "Name: PA_DAYS_DECISION_max_y, dtype: float64\n"
     ]
    },
    {
     "data": {
      "image/png": "[encoded data removed]",
      "text/plain": [
       "<Figure size 432x288 with 1 Axes>"
      ]
     },
     "metadata": {
      "needs_background": "light"
     },
     "output_type": "display_data"
    },
    {
     "name": "stdout",
     "output_type": "stream",
     "text": [
      "Statistics for IP_DAYS_INSTALMENT_min\n",
      "count    307511.000000\n",
      "mean      -1503.163536\n",
      "std         956.409762\n",
      "min       -2922.000000\n",
      "25%       -2436.000000\n",
      "50%       -1450.000000\n",
      "75%        -621.000000\n",
      "max           0.000000\n",
      "Name: IP_DAYS_INSTALMENT_min, dtype: float64\n"
     ]
    },
    {
     "data": {
      "image/png": "[encoded data removed]",
      "text/plain": [
       "<Figure size 432x288 with 1 Axes>"
      ]
     },
     "metadata": {
      "needs_background": "light"
     },
     "output_type": "display_data"
    },
    {
     "name": "stdout",
     "output_type": "stream",
     "text": [
      "Statistics for IP_AMT_INSTALMENT_sum\n",
      "count    3.075110e+05\n",
      "mean     6.377183e+05\n",
      "std      8.698961e+05\n",
      "min      0.000000e+00\n",
      "25%      1.147045e+05\n",
      "50%      2.980917e+05\n",
      "75%      7.964169e+05\n",
      "max      2.327473e+07\n",
      "Name: IP_AMT_INSTALMENT_sum, dtype: float64\n"
     ]
    },
    {
     "data": {
      "image/png": "[encoded data removed]",
      "text/plain": [
       "<Figure size 432x288 with 1 Axes>"
      ]
     },
     "metadata": {
      "needs_background": "light"
     },
     "output_type": "display_data"
    },
    {
     "name": "stdout",
     "output_type": "stream",
     "text": [
      "Statistics for IP_AMT_INSTALMENT_avg\n",
      "count    3.075110e+05\n",
      "mean     1.744353e+04\n",
      "std      2.308920e+04\n",
      "min      0.000000e+00\n",
      "25%      7.100846e+03\n",
      "50%      1.195442e+04\n",
      "75%      2.059924e+04\n",
      "max      2.504590e+06\n",
      "Name: IP_AMT_INSTALMENT_avg, dtype: float64\n"
     ]
    },
    {
     "data": {
      "image/png": "[encoded data removed]",
      "text/plain": [
       "<Figure size 432x288 with 1 Axes>"
      ]
     },
     "metadata": {
      "needs_background": "light"
     },
     "output_type": "display_data"
    },
    {
     "name": "stdout",
     "output_type": "stream",
     "text": [
      "Statistics for AT_CREDIT_INCOME_PERCENT\n",
      "count    307511.000000\n",
      "mean          3.957570\n",
      "std           2.689728\n",
      "min           0.004808\n",
      "25%           2.018667\n",
      "50%           3.265067\n",
      "75%           5.159880\n",
      "max          84.736842\n",
      "Name: AT_CREDIT_INCOME_PERCENT, dtype: float64\n"
     ]
    },
    {
     "data": {
      "image/png": "[encoded data removed]",
      "text/plain": [
       "<Figure size 432x288 with 1 Axes>"
      ]
     },
     "metadata": {
      "needs_background": "light"
     },
     "output_type": "display_data"
    },
    {
     "name": "stdout",
     "output_type": "stream",
     "text": [
      "Statistics for AT_ANNUITY_INCOME_PERCENT\n",
      "count    307511.000000\n",
      "mean          0.180929\n",
      "std           0.094573\n",
      "min           0.000224\n",
      "25%           0.114782\n",
      "50%           0.162833\n",
      "75%           0.229067\n",
      "max           1.875965\n",
      "Name: AT_ANNUITY_INCOME_PERCENT, dtype: float64\n"
     ]
    },
    {
     "data": {
      "image/png": "[encoded data removed]",
      "text/plain": [
       "<Figure size 432x288 with 1 Axes>"
      ]
     },
     "metadata": {
      "needs_background": "light"
     },
     "output_type": "display_data"
    },
    {
     "name": "stdout",
     "output_type": "stream",
     "text": [
      "Statistics for AT_CREDIT_TERM\n",
      "count    307511.000000\n",
      "mean          0.053695\n",
      "std           0.022482\n",
      "min           0.016790\n",
      "25%           0.036900\n",
      "50%           0.050000\n",
      "75%           0.064043\n",
      "max           0.158114\n",
      "Name: AT_CREDIT_TERM, dtype: float64\n"
     ]
    },
    {
     "data": {
      "image/png": "[encoded data removed]",
      "text/plain": [
       "<Figure size 432x288 with 1 Axes>"
      ]
     },
     "metadata": {
      "needs_background": "light"
     },
     "output_type": "display_data"
    },
    {
     "name": "stdout",
     "output_type": "stream",
     "text": [
      "Statistics for AT_DAYS_EMPLOYED_PERCENT\n",
      "count    307511.000000\n",
      "mean         -2.920135\n",
      "std           6.627098\n",
      "min         -47.489663\n",
      "25%           0.021559\n",
      "50%           0.088645\n",
      "75%           0.191000\n",
      "max           0.728811\n",
      "Name: AT_DAYS_EMPLOYED_PERCENT, dtype: float64\n"
     ]
    }
   ],
   "source": [
    "for var in independent_numvars:\n",
    "    lower_bound, upper_bound = identify_outliers(df_clean, var)\n",
    "    print(\"Statistics for %s\" % var)\n",
    "    print(df_clean[var].describe())"
   ]
  },
  {
   "cell_type": "markdown",
   "id": "8bd13908",
   "metadata": {},
   "source": [
    "### Observation\n",
    "\n",
    "#### There are No outliers in the following 7 variables as revealed by the boxplots:\n",
    "* 1. AMT_ANNUITY\n",
    "* 2. DAYS_BIRTH\n",
    "* 3. DAYS_REGISTRATION \n",
    "* 4. DAYS_ID_PUBLISH\n",
    "* 5. EXT_SOURCE_2\n",
    "* 6. EXT_SOURCE_3\n",
    "* 7. IP_DAYS_INSTALMENT_min\n",
    " \n",
    "\n",
    "#### There are outliers in the following 11 variables as revealed by the boxplots:\n",
    "*  1. PA_AMT_CREDIT_sum\n",
    "*  2. PA_DAYS_DECISION_max_y\n",
    "*  3. IP_AMT_INSTALMENT_sum\n",
    "*  4. IP_AMT_INSTALMENT_avg\n",
    "*  5. AT_CREDIT_INCOME_PERCENT\n",
    "*  6. AT_ANNUITY_INCOME_PERCENT\n",
    "*  7. AT_CREDIT_TERM\n",
    "*  8. AT_DAYS_EMPLOYED_PERCENT"
   ]
  },
  {
   "cell_type": "markdown",
   "id": "24369fc3",
   "metadata": {},
   "source": [
    "### Treatment of outliers\n",
    "\n",
    "We can treat outliers either by winsorization or scaling.\n",
    "\n",
    "### Winsorization\n",
    "\n",
    "Winsorization replaces extreme values with a specified percentile value. For example, you can replace values above the 95th percentile with the value at the 95th percentile and values below the 5th percentile with the value at the 5th percentile.\n",
    "When can you apply the winsorization to treat outliers?\n",
    "Below are cases when you can use the winsorization technique to treat outliers:\n",
    "\n",
    "### when do you use winsorization technique?\n",
    "\n",
    "When you want to keep the data distribution intact: Winsorization can be useful when you want to address outliers but still maintain the original data distribution to some extent.\n",
    "\n",
    "When you have some tolerance for outliers: Winsorization allows you to set a threshold for how extreme values should be replaced, making it a flexible approach.\n",
    "\n",
    "We will use winsorization technique using IQR method."
   ]
  },
  {
   "cell_type": "code",
   "execution_count": 39,
   "id": "374969b8",
   "metadata": {},
   "outputs": [],
   "source": [
    "def cap_outliers(df, VAR):\n",
    "    p25  =  df[VAR].quantile(0.25)\n",
    "    p75  =  df[VAR].quantile(0.75)\n",
    "    IQR  =  p75 - p25\n",
    "    ulim =  p75 + (1.5 * IQR)\n",
    "    llim =  p25 - (1.5 * IQR)\n",
    "    df[VAR] = df[VAR].clip(lower = llim, upper = ulim)\n",
    "    return df[VAR]\n",
    "  "
   ]
  },
  {
   "cell_type": "markdown",
   "id": "43b737b3",
   "metadata": {},
   "source": [
    "### Capping for the 11 variables affected by outliers:\n",
    "*  1. PA_AMT_CREDIT_sum\n",
    "*  2. PA_DAYS_DECISION_max_y\n",
    "*  3. IP_AMT_INSTALMENT_sum\n",
    "*  4. IP_AMT_INSTALMENT_avg\n",
    "*  5. AT_CREDIT_INCOME_PERCENT\n",
    "*  6. AT_ANNUITY_INCOME_PERCENT\n",
    "*  7. AT_CREDIT_TERM\n",
    "*  8. AT_DAYS_EMPLOYED_PERCENT"
   ]
  },
  {
   "cell_type": "code",
   "execution_count": 43,
   "id": "422f7ea7",
   "metadata": {},
   "outputs": [
    {
     "data": {
      "image/png": "[encoded data removed]",
      "text/plain": [
       "<Figure size 432x288 with 1 Axes>"
      ]
     },
     "metadata": {
      "needs_background": "light"
     },
     "output_type": "display_data"
    },
    {
     "data": {
      "image/png": "[encoded data removed]",
      "text/plain": [
       "<Figure size 432x288 with 1 Axes>"
      ]
     },
     "metadata": {
      "needs_background": "light"
     },
     "output_type": "display_data"
    },
    {
     "data": {
      "image/png": "[encoded data removed]",
      "text/plain": [
       "<Figure size 432x288 with 1 Axes>"
      ]
     },
     "metadata": {
      "needs_background": "light"
     },
     "output_type": "display_data"
    },
    {
     "data": {
      "image/png": "[encoded data removed]",
      "text/plain": [
       "<Figure size 432x288 with 1 Axes>"
      ]
     },
     "metadata": {
      "needs_background": "light"
     },
     "output_type": "display_data"
    },
    {
     "data": {
      "image/png": "[encoded data removed]",
      "text/plain": [
       "<Figure size 432x288 with 1 Axes>"
      ]
     },
     "metadata": {
      "needs_background": "light"
     },
     "output_type": "display_data"
    },
    {
     "data": {
      "image/png": "[encoded data removed]",
      "text/plain": [
       "<Figure size 432x288 with 1 Axes>"
      ]
     },
     "metadata": {
      "needs_background": "light"
     },
     "output_type": "display_data"
    },
    {
     "data": {
      "image/png": "[encoded data removed]",
      "text/plain": [
       "<Figure size 432x288 with 1 Axes>"
      ]
     },
     "metadata": {
      "needs_background": "light"
     },
     "output_type": "display_data"
    },
    {
     "data": {
      "image/png": "[encoded data removed]",
      "text/plain": [
       "<Figure size 432x288 with 1 Axes>"
      ]
     },
     "metadata": {
      "needs_background": "light"
     },
     "output_type": "display_data"
    }
   ],
   "source": [
    "cap_vars = ['PA_AMT_CREDIT_sum','PA_DAYS_DECISION_max_y','IP_AMT_INSTALMENT_sum','IP_AMT_INSTALMENT_avg',\\\n",
    "            'AT_CREDIT_INCOME_PERCENT', 'AT_ANNUITY_INCOME_PERCENT', 'AT_CREDIT_TERM', 'AT_DAYS_EMPLOYED_PERCENT']\n",
    "\n",
    "\n",
    "for each in cap_vars:\n",
    "    VAR            =  each\n",
    "    df_clean[VAR] = cap_outliers(df_clean, VAR)\n",
    "    df_clean.boxplot(column = [VAR])\n",
    "    plt.show()"
   ]
  },
  {
   "cell_type": "markdown",
   "id": "fac6a854",
   "metadata": {},
   "source": [
    "### Observation\n",
    "\n",
    "We have removed the outliers successfully as revealed in the above boxplots.\n",
    "Now, we can use the data for EDA."
   ]
  },
  {
   "cell_type": "code",
   "execution_count": 44,
   "id": "5fd25741",
   "metadata": {},
   "outputs": [
    {
     "data": {
      "text/plain": [
       "(307511, 16)"
      ]
     },
     "execution_count": 44,
     "metadata": {},
     "output_type": "execute_result"
    }
   ],
   "source": [
    "df_clean.shape"
   ]
  },
  {
   "cell_type": "markdown",
   "id": "95bc9341",
   "metadata": {},
   "source": [
    "### Export data for EDA"
   ]
  },
  {
   "cell_type": "code",
   "execution_count": 45,
   "id": "5c2811b4",
   "metadata": {},
   "outputs": [],
   "source": [
    "df_clean.to_csv('Cleaned_housing_loan_data.csv', index = False)"
   ]
  }
 ],
 "metadata": {
  "kernelspec": {
   "display_name": "Python 3 (ipykernel)",
   "language": "python",
   "name": "python3"
  },
  "language_info": {
   "codemirror_mode": {
    "name": "ipython",
    "version": 3
   },
   "file_extension": ".py",
   "mimetype": "text/x-python",
   "name": "python",
   "nbconvert_exporter": "python",
   "pygments_lexer": "ipython3",
   "version": "3.11.4"
  }
 },
 "nbformat": 4,
 "nbformat_minor": 5
}
