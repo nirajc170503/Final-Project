{
 "cells": [
  {
   "cell_type": "markdown",
   "id": "8e53ae3a",
   "metadata": {},
   "source": [
    "### To print the elapsed time, first get the start time"
   ]
  },
  {
   "cell_type": "code",
   "execution_count": 1,
   "id": "b1509c96",
   "metadata": {},
   "outputs": [],
   "source": [
    "import time\n",
    "from datetime import timedelta\n",
    "from pprint   import pprint\n",
    "start_time = time.time()"
   ]
  },
  {
   "cell_type": "code",
   "execution_count": 2,
   "id": "85dc7dbe",
   "metadata": {},
   "outputs": [],
   "source": [
    "import pandas                  as     pd\n",
    "import numpy                   as     np\n",
    "import seaborn                 as     sns\n",
    "import matplotlib.pyplot       as     plt\n",
    "import statsmodels.api         as     sm\n",
    "from   sklearn.model_selection import train_test_split\n",
    "from   sklearn.metrics         import confusion_matrix, classification_report\n",
    "import sys, os"
   ]
  },
  {
   "cell_type": "code",
   "execution_count": 3,
   "id": "d4413d50",
   "metadata": {},
   "outputs": [
    {
     "name": "stdout",
     "output_type": "stream",
     "text": [
      "1.2.2\n",
      "3.11.5 | packaged by Anaconda, Inc. | (main, Sep 11 2023, 13:26:23) [MSC v.1916 64 bit (AMD64)]\n",
      "statsmodels version 0.14.0\n"
     ]
    }
   ],
   "source": [
    "# check scikit-learn version\n",
    "import sklearn\n",
    "print(sklearn.__version__)\n",
    "\n",
    "import sys\n",
    "print(sys.version)\n",
    "\n",
    "print(\"statsmodels version {}\".format(sm.__version__))"
   ]
  },
  {
   "cell_type": "markdown",
   "id": "36ee0206",
   "metadata": {},
   "source": [
    "### Define useful  functions"
   ]
  },
  {
   "cell_type": "code",
   "execution_count": 4,
   "id": "9aef9ab7",
   "metadata": {},
   "outputs": [],
   "source": [
    "\"\"\"\n",
    "Created on Sat Aug  4 16:06:29 2018\n",
    "\n",
    "@author: PVS\n",
    "\n",
    "@description: This file holds functions for building models \n",
    "\n",
    "\"\"\"\n",
    "\"\"\"    \n",
    "1)   Function name: draw_cm\n",
    "    \n",
    "     Description: This function does the following:\n",
    "         \n",
    "                  Plots a heat graph for confusion matrix \n",
    "     Input:\n",
    "            1) Data Frame containing actual values\n",
    "     \n",
    "            2) Data frame containing predicted values\n",
    "    \n",
    "    \n",
    "     Output:\n",
    "            1) a nice confusion matrix graph      \n",
    "\n",
    "\"\"\"\n",
    "\n",
    "def draw_cm( actual, predicted ):\n",
    "    \n",
    "    import matplotlib.pyplot as   plt\n",
    "    import sklearn.metrics   as   metrics\n",
    "    import seaborn           as   sns\n",
    "    \n",
    "    cm = metrics.confusion_matrix( actual, predicted)\n",
    "    sns.heatmap(cm, annot=True, fmt='.2f', xticklabels = [\"Yes\", \"No\"] , yticklabels = [\"Yes\", \"No\"] )\n",
    "    plt.ylabel('True label')\n",
    "    plt.xlabel('Predicted label')\n",
    "    plt.show()   \n",
    "\n",
    "### -----------------------------------------------------------------------------------------------------------------------------    \n",
    "\n",
    "\"\"\"\n",
    "2)   Function name: draw_roc\n",
    "    \n",
    "     Description: This function does the following:\n",
    "                  i) plots a ROC and reports the area under ROC for the specified input\n",
    "     Input:\n",
    "          1) Data Frame containing actual values for the target variable\n",
    "    \n",
    "          2) Data frame containing predicted probabilities\n",
    "    \n",
    "    \n",
    "     Output:\n",
    "          1) a nice ROC graph with AUROC mentioned     \n",
    "\n",
    "\"\"\"\n",
    "\n",
    "def draw_roc( actual, probs ):\n",
    "\n",
    "    import pandas            as   pd\n",
    "    import numpy             as   np\n",
    "    import seaborn           as   sns\n",
    "    import matplotlib.pyplot as   plt\n",
    "    import sklearn.metrics   as   metrics\n",
    "    import seaborn           as   sns\n",
    "    \n",
    "    fpr, tpr, thresholds = metrics.roc_curve( actual, probs,drop_intermediate = False )\n",
    "    auc_score = metrics.roc_auc_score( actual, probs )\n",
    "    plt.figure(figsize=(6, 4))\n",
    "    plt.plot( fpr, tpr, label='ROC curve (area = %0.2f)' % auc_score )\n",
    "    plt.plot([0, 1], [0, 1], 'k--')\n",
    "    plt.xlim([0.0, 1.0])\n",
    "    plt.ylim([0.0, 1.05])\n",
    "    plt.xlabel('False Positive Rate or [1 - True Negative Rate]')\n",
    "    plt.ylabel('True Positive Rate')\n",
    "    plt.title('Receiver operating characteristic curve')\n",
    "    plt.legend(loc=\"lower right\")\n",
    "    plt.show()\n",
    "    return fpr, tpr, thresholds\n",
    "\n",
    "### -----------------------------------------------------------------------------------------------------------------------------"
   ]
  },
  {
   "cell_type": "code",
   "execution_count": 5,
   "id": "45c911fa",
   "metadata": {},
   "outputs": [],
   "source": [
    "\"\"\"\n",
    "3)  Function name: get_significant_vars\n",
    "        \n",
    "    Description: This function lists the significant variables at the specified significance level from the coefficients table\n",
    "\n",
    "    Input:\n",
    "      1) Fitted model\n",
    "    \n",
    "      2) Desired Level of significance\n",
    "    \n",
    "    Output:\n",
    "      1) List of significant variables at the desired level of significance        \n",
    "\n",
    "\"\"\"\n",
    "def get_significant_vars( lm, sig_level ):\n",
    "    \n",
    "    import pandas as pd\n",
    "    \n",
    "    var_p_vals_df         = pd.DataFrame( lm.pvalues )\n",
    "    var_p_vals_df['vars'] = var_p_vals_df.index\n",
    "    var_p_vals_df.columns = ['pvals', 'vars']\n",
    "    \n",
    "    return list( var_p_vals_df[var_p_vals_df.pvals <= sig_level]['vars'] )\n",
    "\n",
    "### -----------------------------------------------------------------------------------------------"
   ]
  },
  {
   "cell_type": "code",
   "execution_count": 6,
   "id": "ac7bd092",
   "metadata": {},
   "outputs": [],
   "source": [
    "def  build_LR(model, X_tr, Y_tr, X_te, Y_te, tex):\n",
    "    print(tex)\n",
    "    ###\n",
    "    ### Build the base model ###\n",
    "    ###\n",
    "    pprint(model.get_params())\n",
    "    model.fit(X_tr,Y_tr)\n",
    "    ###\n",
    "    #use model to make predictions on train data\n",
    "    ###\n",
    "    tr_y_pred     =   model.predict(X_tr)\n",
    "    tr_matrix     =   confusion_matrix(Y_tr, tr_y_pred)\n",
    "    print(\"\\nTraining Data \\n Confusion Matrix\")\n",
    "    print(tr_matrix)\n",
    "    draw_cm(Y_tr, tr_y_pred)\n",
    "    print(classification_report(Y_tr, tr_y_pred, zero_division = 1, digits = 6))\n",
    "    ###\n",
    "    #use model to make predictions on test data\n",
    "    ###\n",
    "    te_y_pred     =   model.predict(X_te)\n",
    "    te_matrix     =   confusion_matrix(Y_te, te_y_pred)\n",
    "    print(\"\\nTest Data \\n Confusion Matrix\")\n",
    "    print(te_matrix)\n",
    "    draw_cm(Y_te, te_y_pred)\n",
    "    print(classification_report(Y_te, te_y_pred, zero_division = 1, digits = 6))   \n"
   ]
  },
  {
   "cell_type": "code",
   "execution_count": 7,
   "id": "c88fdbe5",
   "metadata": {},
   "outputs": [],
   "source": [
    "import  os\n",
    "\n",
    "folder =  r'F:\\DSE-Capstone\\2023-Oct\\DSE-FT-Pune-Aug23-G2\\Data'\n",
    "\n",
    "### folder =  r'H:\\DSE-Capstone\\2023-Oct\\DSE-FT-Pune-Aug23-G2\\Data'\n",
    "\n",
    "os.chdir(folder)"
   ]
  },
  {
   "cell_type": "code",
   "execution_count": 8,
   "id": "5cb3d6a7",
   "metadata": {},
   "outputs": [],
   "source": [
    "filename = 'Cleaned_housing_loan_data.csv'"
   ]
  },
  {
   "cell_type": "code",
   "execution_count": 9,
   "id": "c91e8d0f",
   "metadata": {},
   "outputs": [
    {
     "name": "stdout",
     "output_type": "stream",
     "text": [
      "\n",
      "Dimension (307511, 16)\n",
      "\n",
      "Columns Index(['AMT_ANNUITY', 'DAYS_BIRTH', 'DAYS_REGISTRATION', 'DAYS_ID_PUBLISH',\n",
      "       'EXT_SOURCE_2', 'EXT_SOURCE_3', 'PA_AMT_CREDIT_sum',\n",
      "       'PA_DAYS_DECISION_max_y', 'IP_DAYS_INSTALMENT_min',\n",
      "       'IP_AMT_INSTALMENT_sum', 'IP_AMT_INSTALMENT_avg',\n",
      "       'AT_CREDIT_INCOME_PERCENT', 'AT_ANNUITY_INCOME_PERCENT',\n",
      "       'AT_CREDIT_TERM', 'AT_DAYS_EMPLOYED_PERCENT', 'TARGET'],\n",
      "      dtype='object')\n"
     ]
    }
   ],
   "source": [
    "df_imp =  pd.read_csv(filename, encoding = 'Latin-1')\n",
    "print(\"\\nDimension {}\".format(df_imp.shape))\n",
    "print(\"\\nColumns {}\".format(df_imp.columns))"
   ]
  },
  {
   "cell_type": "code",
   "execution_count": 10,
   "id": "fa47702b",
   "metadata": {},
   "outputs": [
    {
     "name": "stdout",
     "output_type": "stream",
     "text": [
      "<class 'pandas.core.frame.DataFrame'>\n",
      "RangeIndex: 307511 entries, 0 to 307510\n",
      "Data columns (total 16 columns):\n",
      " #   Column                     Non-Null Count   Dtype  \n",
      "---  ------                     --------------   -----  \n",
      " 0   AMT_ANNUITY                307511 non-null  float64\n",
      " 1   DAYS_BIRTH                 307511 non-null  int64  \n",
      " 2   DAYS_REGISTRATION          307511 non-null  float64\n",
      " 3   DAYS_ID_PUBLISH            307511 non-null  int64  \n",
      " 4   EXT_SOURCE_2               307511 non-null  float64\n",
      " 5   EXT_SOURCE_3               307511 non-null  float64\n",
      " 6   PA_AMT_CREDIT_sum          307511 non-null  float64\n",
      " 7   PA_DAYS_DECISION_max_y     307511 non-null  float64\n",
      " 8   IP_DAYS_INSTALMENT_min     307511 non-null  float64\n",
      " 9   IP_AMT_INSTALMENT_sum      307511 non-null  float64\n",
      " 10  IP_AMT_INSTALMENT_avg      307511 non-null  float64\n",
      " 11  AT_CREDIT_INCOME_PERCENT   307511 non-null  float64\n",
      " 12  AT_ANNUITY_INCOME_PERCENT  307511 non-null  float64\n",
      " 13  AT_CREDIT_TERM             307511 non-null  float64\n",
      " 14  AT_DAYS_EMPLOYED_PERCENT   307511 non-null  float64\n",
      " 15  TARGET                     307511 non-null  int64  \n",
      "dtypes: float64(13), int64(3)\n",
      "memory usage: 37.5 MB\n"
     ]
    }
   ],
   "source": [
    "df_imp.info()"
   ]
  },
  {
   "cell_type": "markdown",
   "id": "a07880c2",
   "metadata": {},
   "source": [
    "### Performance measure for this project\n",
    "\n",
    "In the context of predicting whether a user will default on housing loan or not, both precision and recall are useful.\n",
    "\n",
    "However, which one to prioritize depends on the business objective. If the goal is to minimize false positives (i.e., users who are predicted to default but do not), then precision is more important.\n",
    "\n",
    "On the other hand, if the goal is to minimize false negatives (i.e., users who are predicted not to default but do), then recall is more important.\n",
    "\n",
    "We shall use recall as our measure of model performance since the cost of false negatives is quite high when compared to the cost of false positives."
   ]
  },
  {
   "cell_type": "markdown",
   "id": "ccbf0b0c",
   "metadata": {},
   "source": [
    "The following variables have VIF less than 5 and selected for building logistic regression model:\n",
    "1. DAYS_REGISTRATION\n",
    "2. DAYS_ID_PUBLISH\n",
    "3. PA_AMT_CREDIT_sum\n",
    "4. PA_DAYS_DECISION_max_y\n",
    "5. IP_DAYS_INSTALMENT_min\n",
    "6. IP_AMT_INSTALMENT_avg\n",
    "7. AT_CREDIT_INCOME_PERCENT\n",
    "8. AT_CREDIT_TERM\n",
    "9. AT_DAYS_EMPLOYED_PERCENT\n",
    "\n",
    "Of course, we need add the target variable to our model."
   ]
  },
  {
   "cell_type": "code",
   "execution_count": 11,
   "id": "b3a97910",
   "metadata": {},
   "outputs": [],
   "source": [
    "impvars =  ['DAYS_REGISTRATION', 'DAYS_ID_PUBLISH', 'PA_AMT_CREDIT_sum','PA_DAYS_DECISION_max_y',\\\n",
    "            'IP_DAYS_INSTALMENT_min','IP_AMT_INSTALMENT_avg', 'AT_CREDIT_INCOME_PERCENT',\\\n",
    "            'AT_CREDIT_TERM','AT_DAYS_EMPLOYED_PERCENT']"
   ]
  },
  {
   "cell_type": "code",
   "execution_count": 12,
   "id": "4d8eb115",
   "metadata": {},
   "outputs": [],
   "source": [
    "X_names    = impvars"
   ]
  },
  {
   "cell_type": "code",
   "execution_count": 13,
   "id": "64107e51",
   "metadata": {},
   "outputs": [],
   "source": [
    "X = df_imp.loc[:, impvars]\n",
    "y = df_imp[\"TARGET\"]\n",
    "\n",
    "X_train,X_test,y_train,y_test=train_test_split(X,y,test_size= 0.3, random_state = 101,stratify = y)\n"
   ]
  },
  {
   "cell_type": "markdown",
   "id": "ad74a6f7",
   "metadata": {},
   "source": [
    "### Check the proportion of classes in the target variable, TARGET"
   ]
  },
  {
   "cell_type": "code",
   "execution_count": 14,
   "id": "0f78e567",
   "metadata": {},
   "outputs": [
    {
     "name": "stdout",
     "output_type": "stream",
     "text": [
      "\n",
      "Full data: Proportion of classes TARGET\n",
      "0    0.919271\n",
      "1    0.080729\n",
      "Name: proportion, dtype: float64\n",
      "Y Training data: Proportion of classes TARGET\n",
      "0    0.919273\n",
      "1    0.080727\n",
      "Name: proportion, dtype: float64\n",
      "Y Test data: Proportion of classes TARGET\n",
      "0    0.919266\n",
      "1    0.080734\n",
      "Name: proportion, dtype: float64\n"
     ]
    }
   ],
   "source": [
    "### Full data ------ \n",
    "### ----------------\n",
    "print(\"\\nFull data: Proportion of classes {}\".format(y.value_counts(normalize = True)))\n",
    "### Training data ---\n",
    "### -----------------\n",
    "print(\"Y Training data: Proportion of classes {}\".format(y_train.value_counts(normalize = True)))\n",
    "### Test data ---\n",
    "### -----------------\n",
    "print(\"Y Test data: Proportion of classes {}\".format(y_test.value_counts(normalize = True)))\n",
    "### -----------------------------------------------------------------------------------------------"
   ]
  },
  {
   "cell_type": "markdown",
   "id": "09a1a176",
   "metadata": {},
   "source": [
    "### Build a logistic regression model \n",
    "\n",
    "* Both statsmodels and scikit-learn can be used for building a logistic regression model.\n",
    "\n",
    "* Statsmodels can be used to explore and understand the underlying patterns and relationships in the data, while Scikit-learn can be used to build and evaluate predictive models. Both Statsmodels and Scikit-learn are masters in their respective domains and can help uncover the secrets hidden within your data.\n",
    "\n",
    "* Scikit-learn is most commonly used in machine learning and data science. StatsModels is used in the field of econometrics, generalised-linear models, time-series-analysis, and regression models. \n"
   ]
  },
  {
   "cell_type": "code",
   "execution_count": 15,
   "id": "955fdd5b",
   "metadata": {},
   "outputs": [
    {
     "name": "stdout",
     "output_type": "stream",
     "text": [
      "Optimization terminated successfully.\n",
      "         Current function value: 0.276589\n",
      "         Iterations 7\n"
     ]
    }
   ],
   "source": [
    "logit = sm.Logit(y_train, sm.add_constant( X_train ) )\n",
    "lg    = logit.fit()"
   ]
  },
  {
   "cell_type": "markdown",
   "id": "eda21f9f",
   "metadata": {},
   "source": [
    "**Terminated successfully** *means that the numerical optimization converged on a solution and is not still bouncing around, trying to find a solution.*"
   ]
  },
  {
   "cell_type": "markdown",
   "id": "85f75ee5",
   "metadata": {},
   "source": [
    "### Using sklearn model"
   ]
  },
  {
   "cell_type": "code",
   "execution_count": 16,
   "id": "e70dfc20",
   "metadata": {},
   "outputs": [
    {
     "name": "stdout",
     "output_type": "stream",
     "text": [
      "Using default parameters\n",
      "{'C': 1.0,\n",
      " 'class_weight': None,\n",
      " 'dual': False,\n",
      " 'fit_intercept': True,\n",
      " 'intercept_scaling': 1,\n",
      " 'l1_ratio': None,\n",
      " 'max_iter': 3000,\n",
      " 'multi_class': 'auto',\n",
      " 'n_jobs': None,\n",
      " 'penalty': 'l2',\n",
      " 'random_state': None,\n",
      " 'solver': 'lbfgs',\n",
      " 'tol': 0.0001,\n",
      " 'verbose': 0,\n",
      " 'warm_start': False}\n",
      "\n",
      "Training Data \n",
      " Confusion Matrix\n",
      "[[197870     10]\n",
      " [ 17373      4]]\n"
     ]
    },
    {
     "data": {
      "image/png": "[encoded data removed]",
      "text/plain": [
       "<Figure size 640x480 with 2 Axes>"
      ]
     },
     "metadata": {},
     "output_type": "display_data"
    },
    {
     "name": "stdout",
     "output_type": "stream",
     "text": [
      "              precision    recall  f1-score   support\n",
      "\n",
      "           0   0.919287  0.999949  0.957923    197880\n",
      "           1   0.285714  0.000230  0.000460     17377\n",
      "\n",
      "    accuracy                       0.919245    215257\n",
      "   macro avg   0.602500  0.500090  0.479191    215257\n",
      "weighted avg   0.868140  0.919245  0.880630    215257\n",
      "\n",
      "\n",
      "Test Data \n",
      " Confusion Matrix\n",
      "[[84804     2]\n",
      " [ 7446     2]]\n"
     ]
    },
    {
     "data": {
      "image/png": "[encoded data removed]",
      "text/plain": [
       "<Figure size 640x480 with 2 Axes>"
      ]
     },
     "metadata": {},
     "output_type": "display_data"
    },
    {
     "name": "stdout",
     "output_type": "stream",
     "text": [
      "              precision    recall  f1-score   support\n",
      "\n",
      "           0   0.919285  0.999976  0.957934     84806\n",
      "           1   0.500000  0.000269  0.000537      7448\n",
      "\n",
      "    accuracy                       0.919266     92254\n",
      "   macro avg   0.709642  0.500122  0.479235     92254\n",
      "weighted avg   0.885434  0.919266  0.880640     92254\n",
      "\n"
     ]
    }
   ],
   "source": [
    "from sklearn.linear_model  import  LogisticRegression\n",
    "tex      =  \"Using default parameters\"\n",
    "model    =  LogisticRegression(max_iter = 3000)\n",
    "build_LR(model, X_train, y_train, X_test, y_test, tex)"
   ]
  },
  {
   "cell_type": "markdown",
   "id": "e094e499",
   "metadata": {},
   "source": [
    "### Observation\n",
    "\n",
    "Our goal is to minimize false negatives (i.e., users who are predicted not to default but do). Hence, recall is more important than other measure of model performance.\n",
    "\n",
    "We also observe the recall measure is extremely low as shown below:\n",
    "Training:  0.000230; Test:   0.000269"
   ]
  },
  {
   "cell_type": "markdown",
   "id": "7e98e07a",
   "metadata": {},
   "source": [
    "### Relative variable importance plot\n",
    "\n",
    "The relative variable importance chart plots the predictors in order of their effect on model improvement from all the basis functions for a predictor. The variable with the highest improvement score is set as the most important variable, and the other variables follow in order of importance. Relative variable importance standardizes the importance values for ease of interpretation. Relative importance is defined as the percent improvement with respect to the most important predictor, which has an importance of 100%.\n",
    "\n",
    "Relative importance is calculated by dividing each variable importance score by the largest importance score of the variables, then we multiply by 100%."
   ]
  },
  {
   "cell_type": "markdown",
   "id": "72536f37",
   "metadata": {},
   "source": [
    "#### Variable importance measures model improvement when splits are made on a predictor.\n",
    "#### Relative importance is defined as % improvement with respect to the top predictor."
   ]
  },
  {
   "cell_type": "markdown",
   "id": "403b085a",
   "metadata": {},
   "source": [
    "### Report Psuedo R-square, model coefficients and p-value"
   ]
  },
  {
   "cell_type": "code",
   "execution_count": 17,
   "id": "a6503771",
   "metadata": {},
   "outputs": [
    {
     "name": "stdout",
     "output_type": "stream",
     "text": [
      "                           Logit Regression Results                           \n",
      "==============================================================================\n",
      "Dep. Variable:                 TARGET   No. Observations:               215257\n",
      "Model:                          Logit   Df Residuals:                   215247\n",
      "Method:                           MLE   Df Model:                            9\n",
      "Date:                Fri, 19 Jan 2024   Pseudo R-squ.:                 0.01408\n",
      "Time:                        20:04:22   Log-Likelihood:                -59538.\n",
      "converged:                       True   LL-Null:                       -60388.\n",
      "Covariance Type:            nonrobust   LLR p-value:                     0.000\n",
      "============================================================================================\n",
      "                               coef    std err          z      P>|z|      [0.025      0.975]\n",
      "--------------------------------------------------------------------------------------------\n",
      "const                       -1.8104      0.042    -42.776      0.000      -1.893      -1.727\n",
      "DAYS_REGISTRATION         3.998e-05   2.38e-06     16.783      0.000    3.53e-05    4.47e-05\n",
      "DAYS_ID_PUBLISH              0.0001   5.32e-06     20.507      0.000    9.87e-05       0.000\n",
      "PA_AMT_CREDIT_sum         2.455e-07   1.34e-08     18.343      0.000    2.19e-07    2.72e-07\n",
      "PA_DAYS_DECISION_max_y      -0.0001   2.51e-05     -4.720      0.000      -0.000   -6.92e-05\n",
      "IP_DAYS_INSTALMENT_min       0.0002   9.97e-06     22.407      0.000       0.000       0.000\n",
      "IP_AMT_INSTALMENT_avg    -1.451e-05   8.77e-07    -16.541      0.000   -1.62e-05   -1.28e-05\n",
      "AT_CREDIT_INCOME_PERCENT     0.0129      0.004      3.140      0.002       0.005       0.021\n",
      "AT_CREDIT_TERM               2.9753      0.436      6.818      0.000       2.120       3.831\n",
      "AT_DAYS_EMPLOYED_PERCENT    -0.2315      0.046     -5.011      0.000      -0.322      -0.141\n",
      "============================================================================================\n"
     ]
    }
   ],
   "source": [
    "print(lg.summary())"
   ]
  },
  {
   "cell_type": "markdown",
   "id": "5e26c828",
   "metadata": {},
   "source": [
    "**Observation**\n",
    "\n",
    "We observe that the McFadden R square (Pseudo R square) is 1.41 % and the model fitness is very bad.\n",
    "\n",
    "We also observe the recall measure is extremely low as shown below:\n",
    "Training:  0.000230; Test:   0.000269\n",
    "\n",
    "**We need to try other machine learning models later.**\n",
    "\n",
    "This McFadden approach is one minus the ratio of two log likelihoods. The numerator is the log likelihood of the logit model selected and the denominator is the log likelihood if the model just had an intercept.\n",
    "\n",
    "A goodness of fit using McFadden‟s pseudo r square (ρ^2) is used for fitting the overall model. McFadden suggested ρ^2 values of between 0.2 and 0.4 should be taken to represent a very good fit of the model (Louviere et al.,2000).\n",
    "http://www.lifesciencesite.com/lsj/life1002/286_B01288life1002_2028_2036.pdf"
   ]
  },
  {
   "cell_type": "markdown",
   "id": "c77ad8fb",
   "metadata": {},
   "source": [
    "### List the significant variables at 5% level of significance"
   ]
  },
  {
   "cell_type": "code",
   "execution_count": 18,
   "id": "9da63e81",
   "metadata": {},
   "outputs": [
    {
     "name": "stdout",
     "output_type": "stream",
     "text": [
      "['const', 'DAYS_REGISTRATION', 'DAYS_ID_PUBLISH', 'PA_AMT_CREDIT_sum', 'PA_DAYS_DECISION_max_y', 'IP_DAYS_INSTALMENT_min', 'IP_AMT_INSTALMENT_avg', 'AT_CREDIT_INCOME_PERCENT', 'AT_CREDIT_TERM', 'AT_DAYS_EMPLOYED_PERCENT']\n"
     ]
    }
   ],
   "source": [
    "significant_vars = get_significant_vars(lg, sig_level = 0.05 )\n",
    "print(significant_vars)"
   ]
  },
  {
   "cell_type": "markdown",
   "id": "952e5cc2",
   "metadata": {},
   "source": [
    "**Observation**\n",
    "\n",
    "The following variables are significant at 5 % level of significance:\n",
    "\n",
    "| SlNo | Significant variable |                      | \n",
    "| ---- | -------------------- | -------------------- |   \n",
    "| 1 | DAYS_REGISTRATION |   | \n",
    "| 2 | DAYS_ID_PUBLISH |  | \n",
    "| 3 | PA_AMT_CREDIT_sum | Actual disbursed credit amount | \n",
    "| 4 | PA_DAYS_DECISION_max_y | No of days since the decision of about recent application was taken | \n",
    "| 5 | IP_DAYS_INSTALMENT_min | No of days since the First installments, it could be of anyone of the multiple loans taken by client  |\n",
    "| 6 | IP_AMT_INSTALMENT_avg | Average installments by client for all the loans through installments  | \n",
    "| 7 | AT_CREDIT_INCOME_PERCENT  | The percentage of the credit amount relative to a client&#39;s income |\n",
    "| 8 | AT_CREDIT_TERM | The length of the payment in months (since the annuity is the monthly amount due)  | \n",
    "| 9 | AT_DAYS_EMPLOYED_PERCENT | The percentage of the days employed relative to the client&#39;s age |"
   ]
  },
  {
   "cell_type": "markdown",
   "id": "e6b762f1",
   "metadata": {},
   "source": [
    "### Get Odds ratio"
   ]
  },
  {
   "cell_type": "code",
   "execution_count": 19,
   "id": "0f29daae",
   "metadata": {},
   "outputs": [
    {
     "name": "stdout",
     "output_type": "stream",
     "text": [
      "<class 'list'>\n"
     ]
    }
   ],
   "source": [
    "drop_vars = X_names\n",
    "print(type(drop_vars))\n",
    "significant_vars.remove('const')"
   ]
  },
  {
   "cell_type": "code",
   "execution_count": 20,
   "id": "bc80d799",
   "metadata": {},
   "outputs": [
    {
     "name": "stdout",
     "output_type": "stream",
     "text": [
      "['DAYS_REGISTRATION', 'DAYS_ID_PUBLISH', 'PA_AMT_CREDIT_sum', 'PA_DAYS_DECISION_max_y', 'IP_DAYS_INSTALMENT_min', 'IP_AMT_INSTALMENT_avg', 'AT_CREDIT_INCOME_PERCENT', 'AT_CREDIT_TERM', 'AT_DAYS_EMPLOYED_PERCENT']\n",
      "['DAYS_REGISTRATION', 'DAYS_ID_PUBLISH', 'PA_AMT_CREDIT_sum', 'PA_DAYS_DECISION_max_y', 'IP_DAYS_INSTALMENT_min', 'IP_AMT_INSTALMENT_avg', 'AT_CREDIT_INCOME_PERCENT', 'AT_CREDIT_TERM', 'AT_DAYS_EMPLOYED_PERCENT']\n"
     ]
    }
   ],
   "source": [
    "print(significant_vars)\n",
    "print(drop_vars)"
   ]
  },
  {
   "cell_type": "code",
   "execution_count": 21,
   "id": "b219101c",
   "metadata": {},
   "outputs": [
    {
     "name": "stdout",
     "output_type": "stream",
     "text": [
      "DAYS_REGISTRATION\n",
      "DAYS_ID_PUBLISH\n",
      "PA_AMT_CREDIT_sum\n",
      "PA_DAYS_DECISION_max_y\n",
      "IP_DAYS_INSTALMENT_min\n",
      "IP_AMT_INSTALMENT_avg\n",
      "AT_CREDIT_INCOME_PERCENT\n",
      "AT_CREDIT_TERM\n",
      "AT_DAYS_EMPLOYED_PERCENT\n",
      "[]\n"
     ]
    }
   ],
   "source": [
    "for i in range(len(significant_vars)):\n",
    "    print(significant_vars[i])\n",
    "    rm = significant_vars[i]\n",
    "    drop_vars.remove(rm)\n",
    "\n",
    "print(drop_vars)"
   ]
  },
  {
   "cell_type": "code",
   "execution_count": 22,
   "id": "f11029fc",
   "metadata": {},
   "outputs": [
    {
     "name": "stdout",
     "output_type": "stream",
     "text": [
      "const                        0.163592\n",
      "DAYS_REGISTRATION            1.000040\n",
      "DAYS_ID_PUBLISH              1.000109\n",
      "PA_AMT_CREDIT_sum            1.000000\n",
      "PA_DAYS_DECISION_max_y       0.999882\n",
      "IP_DAYS_INSTALMENT_min       1.000224\n",
      "IP_AMT_INSTALMENT_avg        0.999985\n",
      "AT_CREDIT_INCOME_PERCENT     1.012976\n",
      "AT_CREDIT_TERM              19.595881\n",
      "AT_DAYS_EMPLOYED_PERCENT     0.793372\n",
      "dtype: float64\n",
      "<class 'pandas.core.series.Series'>\n"
     ]
    }
   ],
   "source": [
    "print(np.exp(lg.params))\n",
    "print(type(np.exp(lg.params)))"
   ]
  },
  {
   "cell_type": "code",
   "execution_count": 23,
   "id": "d8fac9dd",
   "metadata": {},
   "outputs": [
    {
     "data": {
      "text/html": [
       "<div>\n",
       "<style scoped>\n",
       "    .dataframe tbody tr th:only-of-type {\n",
       "        vertical-align: middle;\n",
       "    }\n",
       "\n",
       "    .dataframe tbody tr th {\n",
       "        vertical-align: top;\n",
       "    }\n",
       "\n",
       "    .dataframe thead th {\n",
       "        text-align: right;\n",
       "    }\n",
       "</style>\n",
       "<table border=\"1\" class=\"dataframe\">\n",
       "  <thead>\n",
       "    <tr style=\"text-align: right;\">\n",
       "      <th></th>\n",
       "      <th>OR</th>\n",
       "      <th>z-value</th>\n",
       "      <th>2.5%</th>\n",
       "      <th>97.5%</th>\n",
       "    </tr>\n",
       "  </thead>\n",
       "  <tbody>\n",
       "    <tr>\n",
       "      <th>AT_CREDIT_TERM</th>\n",
       "      <td>19.595881</td>\n",
       "      <td>9.217540e-12</td>\n",
       "      <td>8.331427</td>\n",
       "      <td>46.090369</td>\n",
       "    </tr>\n",
       "    <tr>\n",
       "      <th>AT_CREDIT_INCOME_PERCENT</th>\n",
       "      <td>1.012976</td>\n",
       "      <td>1.691122e-03</td>\n",
       "      <td>1.004856</td>\n",
       "      <td>1.021161</td>\n",
       "    </tr>\n",
       "    <tr>\n",
       "      <th>IP_DAYS_INSTALMENT_min</th>\n",
       "      <td>1.000224</td>\n",
       "      <td>3.337039e-111</td>\n",
       "      <td>1.000204</td>\n",
       "      <td>1.000243</td>\n",
       "    </tr>\n",
       "    <tr>\n",
       "      <th>DAYS_ID_PUBLISH</th>\n",
       "      <td>1.000109</td>\n",
       "      <td>1.854115e-93</td>\n",
       "      <td>1.000099</td>\n",
       "      <td>1.000120</td>\n",
       "    </tr>\n",
       "    <tr>\n",
       "      <th>DAYS_REGISTRATION</th>\n",
       "      <td>1.000040</td>\n",
       "      <td>3.266859e-63</td>\n",
       "      <td>1.000035</td>\n",
       "      <td>1.000045</td>\n",
       "    </tr>\n",
       "    <tr>\n",
       "      <th>PA_AMT_CREDIT_sum</th>\n",
       "      <td>1.000000</td>\n",
       "      <td>3.738620e-75</td>\n",
       "      <td>1.000000</td>\n",
       "      <td>1.000000</td>\n",
       "    </tr>\n",
       "    <tr>\n",
       "      <th>IP_AMT_INSTALMENT_avg</th>\n",
       "      <td>0.999985</td>\n",
       "      <td>1.868000e-61</td>\n",
       "      <td>0.999984</td>\n",
       "      <td>0.999987</td>\n",
       "    </tr>\n",
       "    <tr>\n",
       "      <th>PA_DAYS_DECISION_max_y</th>\n",
       "      <td>0.999882</td>\n",
       "      <td>2.354489e-06</td>\n",
       "      <td>0.999832</td>\n",
       "      <td>0.999931</td>\n",
       "    </tr>\n",
       "    <tr>\n",
       "      <th>AT_DAYS_EMPLOYED_PERCENT</th>\n",
       "      <td>0.793372</td>\n",
       "      <td>5.420261e-07</td>\n",
       "      <td>0.724698</td>\n",
       "      <td>0.868552</td>\n",
       "    </tr>\n",
       "  </tbody>\n",
       "</table>\n",
       "</div>"
      ],
      "text/plain": [
       "                                 OR        z-value      2.5%      97.5%\n",
       "AT_CREDIT_TERM            19.595881   9.217540e-12  8.331427  46.090369\n",
       "AT_CREDIT_INCOME_PERCENT   1.012976   1.691122e-03  1.004856   1.021161\n",
       "IP_DAYS_INSTALMENT_min     1.000224  3.337039e-111  1.000204   1.000243\n",
       "DAYS_ID_PUBLISH            1.000109   1.854115e-93  1.000099   1.000120\n",
       "DAYS_REGISTRATION          1.000040   3.266859e-63  1.000035   1.000045\n",
       "PA_AMT_CREDIT_sum          1.000000   3.738620e-75  1.000000   1.000000\n",
       "IP_AMT_INSTALMENT_avg      0.999985   1.868000e-61  0.999984   0.999987\n",
       "PA_DAYS_DECISION_max_y     0.999882   2.354489e-06  0.999832   0.999931\n",
       "AT_DAYS_EMPLOYED_PERCENT   0.793372   5.420261e-07  0.724698   0.868552"
      ]
     },
     "execution_count": 23,
     "metadata": {},
     "output_type": "execute_result"
    }
   ],
   "source": [
    "model_odds                    = pd.DataFrame(np.exp(lg.params), columns= ['OR'])\n",
    "model_odds['z-value']         = lg.pvalues\n",
    "model_odds[['2.5%', '97.5%']] = np.exp(lg.conf_int())\n",
    "model_odds.drop(\"const\", axis=0, inplace=True)\n",
    "model_odds.sort_values('OR', ascending = False)"
   ]
  },
  {
   "cell_type": "markdown",
   "id": "54dd3190",
   "metadata": {},
   "source": [
    "### Observations\n",
    "\n",
    "Only two variables have Odd's ratio > 1 after rounding off to the nearest two decimal places and they are AT_CREDIT_TERM and AT_CREDIT_INCOME_PERCENT denoting *\"The percentage of the credit amount relative to a client's income\".*"
   ]
  },
  {
   "cell_type": "markdown",
   "id": "791df612",
   "metadata": {},
   "source": [
    "### Odds Ratio Interpretation for significant variables"
   ]
  },
  {
   "cell_type": "markdown",
   "id": "076010f3",
   "metadata": {},
   "source": [
    "Holding other things constant:\n",
    "\n",
    "| Slno | Inference |\n",
    "| ----- | ------------------------------------- |\n",
    "| 1 | The odds of defaulting the house loan increases by a factor of 19.6 for every unit increase in AT_CREDIT_TERM |\n",
    "| 2 | The odds of defaulting the house loan increases by a factor of 1.03 for every unit increase in AT_CREDIT_INCOME_PERCENT |"
   ]
  },
  {
   "cell_type": "markdown",
   "id": "ea07f9b8",
   "metadata": {},
   "source": [
    "### To get the elapsed time, get the end time of processing"
   ]
  },
  {
   "cell_type": "code",
   "execution_count": 24,
   "id": "de5af800",
   "metadata": {},
   "outputs": [
    {
     "name": "stdout",
     "output_type": "stream",
     "text": [
      "LR model - Execution took: 0:00:06 secs (Wall clock time)\n"
     ]
    }
   ],
   "source": [
    "logit_elapsed_time_secs = time.time() - start_time\n",
    "\n",
    "logit_elapsed_time_msg = \"LR model - Execution took: %s secs (Wall clock time)\" % timedelta(seconds=round(logit_elapsed_time_secs))\n",
    "\n",
    "print(logit_elapsed_time_msg)   "
   ]
  },
  {
   "cell_type": "code",
   "execution_count": 1,
   "id": "517238f3",
   "metadata": {},
   "outputs": [],
   "source": [
    "import imblearn"
   ]
  },
  {
   "cell_type": "code",
   "execution_count": null,
   "id": "7ae2d4d2",
   "metadata": {},
   "outputs": [],
   "source": []
  }
 ],
 "metadata": {
  "kernelspec": {
   "display_name": "Python 3 (ipykernel)",
   "language": "python",
   "name": "python3"
  },
  "language_info": {
   "codemirror_mode": {
    "name": "ipython",
    "version": 3
   },
   "file_extension": ".py",
   "mimetype": "text/x-python",
   "name": "python",
   "nbconvert_exporter": "python",
   "pygments_lexer": "ipython3",
   "version": "3.11.4"
  }
 },
 "nbformat": 4,
 "nbformat_minor": 5
}
